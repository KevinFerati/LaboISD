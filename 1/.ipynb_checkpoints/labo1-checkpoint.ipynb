{
 "cells": [
  {
   "cell_type": "markdown",
   "id": "72a795b7",
   "metadata": {},
   "source": [
    "### Chapitre 2 "
   ]
  },
  {
   "cell_type": "code",
   "execution_count": 51,
   "id": "5c3127e4",
   "metadata": {},
   "outputs": [
    {
     "name": "stdout",
     "output_type": "stream",
     "text": [
      "5\n",
      "30\n",
      "5\n",
      "30\n",
      "[1, 2, 3, 3, 2, 1]\n"
     ]
    }
   ],
   "source": [
    "# a\n",
    "def square_sum(x):\n",
    "    res = 0\n",
    "    for i in range(1, x + 1):\n",
    "        res += i ** 2\n",
    "    return res\n",
    "\n",
    "print(square_sum(2))\n",
    "print(square_sum(4))\n",
    "\n",
    "# b\n",
    "def square_sum2(x):\n",
    "    return sum([curr ** 2 for curr in range(1, x + 1)])\n",
    "\n",
    "print(square_sum2(2))\n",
    "print(square_sum2(4))\n",
    "\n",
    "# c\n",
    "\n",
    "def palindrome(base):\n",
    "    res = base.copy()\n",
    "    temp = base.copy()\n",
    "    temp.reverse()\n",
    "    res.extend(temp)\n",
    "    return res\n",
    "p = [1, 2, 3]\n",
    "print(palindrome(p))\n",
    "\n",
    "\n"
   ]
  },
  {
   "cell_type": "markdown",
   "id": "b37750c3",
   "metadata": {},
   "source": [
    "# Chapitre 2.d\n",
    "\n"
   ]
  },
  {
   "cell_type": "code",
   "execution_count": 54,
   "id": "b38a7d55",
   "metadata": {},
   "outputs": [
    {
     "data": {
      "text/plain": [
       "61"
      ]
     },
     "execution_count": 54,
     "metadata": {},
     "output_type": "execute_result"
    }
   ],
   "source": [
    "import random\n",
    "\n",
    "def create_random(): \n",
    "    return [random.randrange(0, 500) for \n",
    "\n",
    "create_random()\n",
    "    \n",
    "    \n"
   ]
  }
 ],
 "metadata": {
  "kernelspec": {
   "display_name": "Python 3 (ipykernel)",
   "language": "python",
   "name": "python3"
  },
  "language_info": {
   "codemirror_mode": {
    "name": "ipython",
    "version": 3
   },
   "file_extension": ".py",
   "mimetype": "text/x-python",
   "name": "python",
   "nbconvert_exporter": "python",
   "pygments_lexer": "ipython3",
   "version": "3.9.7"
  }
 },
 "nbformat": 4,
 "nbformat_minor": 5
}
