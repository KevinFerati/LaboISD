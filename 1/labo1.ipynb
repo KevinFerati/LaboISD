{
 "cells": [
  {
   "cell_type": "markdown",
   "id": "4c60e696",
   "metadata": {},
   "source": [
    "### Chapitre 2 "
   ]
  },
  {
   "cell_type": "code",
   "execution_count": 8,
   "outputs": [],
   "source": [],
   "metadata": {
    "collapsed": false,
    "pycharm": {
     "name": "#%%\n"
    }
   }
  },
  {
   "cell_type": "code",
   "execution_count": 9,
   "outputs": [
    {
     "name": "stdout",
     "output_type": "stream",
     "text": [
      "5\n",
      "30\n",
      "5\n",
      "30\n",
      "[1, 2, 3, 3, 2, 1]\n"
     ]
    }
   ],
   "source": [
    "# a\n",
    "def square_sum(x):\n",
    "    res = 0\n",
    "    for i in range(1, x + 1):\n",
    "        res += i ** 2\n",
    "    return res\n",
    "\n",
    "print(square_sum(2))\n",
    "print(square_sum(4))\n",
    "\n",
    "# b\n",
    "def square_sum2(x):\n",
    "    return sum([curr ** 2 for curr in range(1, x + 1)])\n",
    "\n",
    "print(square_sum2(2))\n",
    "print(square_sum2(4))\n",
    "\n",
    "# c\n",
    "\n",
    "def palindrome(base):\n",
    "    res = base.copy()\n",
    "    temp = base.copy()\n",
    "    temp.reverse()\n",
    "    res.extend(temp)\n",
    "    return res\n",
    "p = [1, 2, 3]\n",
    "print(palindrome(p))\n",
    "\n",
    "\n"
   ],
   "metadata": {
    "collapsed": false,
    "pycharm": {
     "name": "#%%\n"
    }
   }
  },
  {
   "cell_type": "markdown",
   "source": [
    "# Chapitre 2.d\n",
    "\n"
   ],
   "metadata": {
    "collapsed": false
   }
  },
  {
   "cell_type": "code",
   "execution_count": 12,
   "id": "5dde36c8",
   "metadata": {},
   "outputs": [
    {
     "ename": "SyntaxError",
     "evalue": "Missing parentheses in call to 'print'. Did you mean print(\"bjrr\")? (2216935167.py, line 12)",
     "output_type": "error",
     "traceback": [
      "\u001B[1;36m  Input \u001B[1;32mIn [12]\u001B[1;36m\u001B[0m\n\u001B[1;33m    print \"bjrr\"\u001B[0m\n\u001B[1;37m          ^\u001B[0m\n\u001B[1;31mSyntaxError\u001B[0m\u001B[1;31m:\u001B[0m Missing parentheses in call to 'print'. Did you mean print(\"bjrr\")?\n"
     ]
    }
   ],
   "source": [
    "import random\n",
    "\n",
    "def create_random(): \n",
    "    return [random.randrange(1, 11) for i in range(0, 10 ** 6)] \n",
    "\n",
    "def count_even(list_input): \n",
    "    return len([x for x in list_input if x % 2 == 0])\n",
    "\n",
    "l = create_random()\n",
    "\n",
    "print(count_even(l) / len(l) * 100, '%')\n",
    "\n"
   ]
  },
  {
   "cell_type": "code",
   "execution_count": 11,
   "id": "daf3611c",
   "metadata": {},
   "outputs": [
    {
     "name": "stdout",
     "output_type": "stream",
     "text": [
      "[1, 9, 25, 49, 81, 144, 196, 256, 324, 400]\n"
     ]
    }
   ],
   "source": [
    "# Chapitre 2.e\n",
    "f = [x ** 2 for x in range(1, 11) if x % 2 == 1]\n",
    "\n",
    "f.extend([x ** 2 for x in range(11, 22) if x % 2 == 0])\n",
    "\n",
    "print(f)"
   ]
  }
 ],
 "metadata": {
  "kernelspec": {
   "display_name": "Python 3 (ipykernel)",
   "language": "python",
   "name": "python3"
  },
  "language_info": {
   "codemirror_mode": {
    "name": "ipython",
    "version": 3
   },
   "file_extension": ".py",
   "mimetype": "text/x-python",
   "name": "python",
   "nbconvert_exporter": "python",
   "pygments_lexer": "ipython3",
   "version": "3.9.7"
  }
 },
 "nbformat": 4,
 "nbformat_minor": 5
}