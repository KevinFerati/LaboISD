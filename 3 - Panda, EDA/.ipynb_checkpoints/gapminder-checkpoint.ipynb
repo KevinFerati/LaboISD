{
 "cells": [
  {
   "cell_type": "markdown",
   "id": "959c44c2",
   "metadata": {},
   "source": [
    "# "
   ]
  },
  {
   "cell_type": "code",
   "execution_count": 6,
   "id": "8a4b0fac",
   "metadata": {},
   "outputs": [],
   "source": [
    "# Importation des modules\n",
    "from gapminder import gapminder as gm\n",
    "import pandas as pd\n",
    "import numpy as np\n",
    "from matplotlib import pyplot as plt"
   ]
  },
  {
   "cell_type": "code",
   "execution_count": 18,
   "id": "9c08b09d",
   "metadata": {},
   "outputs": [
    {
     "name": "stdout",
     "output_type": "stream",
     "text": [
      "<class 'pandas.core.frame.DataFrame'>\n",
      "RangeIndex: 1704 entries, 0 to 1703\n",
      "Data columns (total 6 columns):\n",
      " #   Column     Non-Null Count  Dtype  \n",
      "---  ------     --------------  -----  \n",
      " 0   country    1704 non-null   object \n",
      " 1   continent  1704 non-null   object \n",
      " 2   year       1704 non-null   int64  \n",
      " 3   lifeExp    1704 non-null   float64\n",
      " 4   pop        1704 non-null   int64  \n",
      " 5   gdpPercap  1704 non-null   float64\n",
      "dtypes: float64(2), int64(2), object(2)\n",
      "memory usage: 80.0+ KB\n"
     ]
    }
   ],
   "source": [
    "# 2 head(), describe(), info()\n",
    "# Retourne les x premières lignes\n",
    "gm.head(5)\n",
    "\n",
    "# Donne plusieurs informations des valeurs numériques (nombre, moyenne, écart type, ...)\n",
    "gm.describe()\n",
    "\n",
    "#Affiche le type, l'utilisation de la mémoire, types des colonnes\n",
    "gm.info()\n",
    "\n"
   ]
  },
  {
   "cell_type": "code",
   "execution_count": 29,
   "id": "000f2655",
   "metadata": {},
   "outputs": [
    {
     "data": {
      "text/plain": [
       "array([[<AxesSubplot:title={'center':'year'}>,\n",
       "        <AxesSubplot:title={'center':'lifeExp'}>],\n",
       "       [<AxesSubplot:title={'center':'pop'}>,\n",
       "        <AxesSubplot:title={'center':'gdpPercap'}>]], dtype=object)"
      ]
     },
     "execution_count": 29,
     "metadata": {},
     "output_type": "execute_result"
    },
    {
     "data": {
      "image/png": "[encoded data removed]",
      "text/plain": [
       "<Figure size 432x288 with 4 Axes>"
      ]
     },
     "metadata": {
      "needs_background": "light"
     },
     "output_type": "display_data"
    }
   ],
   "source": [
    "# 3\n",
    "\n",
    "gm.hist()"
   ]
  },
  {
   "cell_type": "markdown",
   "id": "4989ff4a",
   "metadata": {},
   "source": [
    "# Q1 Que pouvez-vous conclure à partir de ces histogrammes ?"
   ]
  },
  {
   "cell_type": "markdown",
   "id": "d847c79b",
   "metadata": {},
   "source": [
    "LifeEXP : On remarque que la plupart des mesures indiques un life exp centré sur la droite : c'est à dire qu'une majorité de mesures donnaient de bonnes espérances de vies\n",
    "\n",
    "Pop :  On remarque qu'il y a quelques mesures \"extrêmes\", c'est à dire qui semblent assez abherrantes comparées à la plupart des autres mesures.\n",
    "\n",
    "Year: On remarque que y'a beaucoup de mesures avant 1960, très stable entre ~1960 et 2000, et de nouveau beaucoup de mesures > 2000\n",
    "\n",
    "gdpPerCap : On remarque que la plupart des données se situent sur la gauche (peut-être que la plupart sont des pays pauvres) avec des mesures \"abherrantes\"  avec un PIB/hab qui explose le reste."
   ]
  },
  {
   "cell_type": "code",
   "execution_count": 94,
   "id": "309e1ea1",
   "metadata": {},
   "outputs": [
    {
     "name": "stdout",
     "output_type": "stream",
     "text": [
      "Series([], dtype: float64)\n"
     ]
    }
   ],
   "source": [
    "# 4 Afficher le nombre de mesures par pays\n",
    "countPerCountries = gm.groupby(by=[\"country\"]).size()\n",
    "\n",
    "# Vérifier si'il y a des données qui manquent\n",
    "print(countPerCountries.where(lambda x: x != 12).dropna())"
   ]
  },
  {
   "cell_type": "code",
   "execution_count": 100,
   "id": "41f75220",
   "metadata": {},
   "outputs": [
    {
     "data": {
      "text/plain": [
       "array([1952, 1957, 1962, 1967, 1972, 1977, 1982, 1987, 1992, 1997, 2002,\n",
       "       2007], dtype=int64)"
      ]
     },
     "execution_count": 100,
     "metadata": {},
     "output_type": "execute_result"
    }
   ],
   "source": [
    "# 5 Lister les valeurs uniques\n",
    "gm[\"country\"].unique()\n",
    "gm[\"continent\"].unique()\n",
    "gm[\"year\"].unique()"
   ]
  },
  {
   "cell_type": "code",
   "execution_count": 131,
   "id": "ee0e1fa0",
   "metadata": {},
   "outputs": [
    {
     "name": "stdout",
     "output_type": "stream",
     "text": [
      "49.057619718309866 67.00742253521126\n"
     ]
    }
   ],
   "source": [
    "# 6 \n",
    "groupByRes = gm.groupby(['year']).describe()['lifeExp'][\"mean\"]\n",
    "print(groupByRes.loc[1952], groupByRes.loc[2007])"
   ]
  },
  {
   "cell_type": "code",
   "execution_count": 161,
   "id": "9ae9c085",
   "metadata": {},
   "outputs": [],
   "source": [
    "desciption = gm.groupby([\"continent\", 'year']).describe()"
   ]
  }
 ],
 "metadata": {
  "kernelspec": {
   "display_name": "Python 3 (ipykernel)",
   "language": "python",
   "name": "python3"
  },
  "language_info": {
   "codemirror_mode": {
    "name": "ipython",
    "version": 3
   },
   "file_extension": ".py",
   "mimetype": "text/x-python",
   "name": "python",
   "nbconvert_exporter": "python",
   "pygments_lexer": "ipython3",
   "version": "3.9.7"
  }
 },
 "nbformat": 4,
 "nbformat_minor": 5
}
