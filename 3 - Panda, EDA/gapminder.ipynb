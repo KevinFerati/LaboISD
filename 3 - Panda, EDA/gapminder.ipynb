{
 "cells": [
  {
   "cell_type": "markdown",
   "id": "e322938a",
   "metadata": {},
   "source": [
    "# "
   ]
  },
  {
   "cell_type": "code",
   "execution_count": 2,
   "id": "886a07f5",
   "metadata": {},
   "outputs": [],
   "source": [
    "# Importation des modules\n",
    "from gapminder import gapminder as gm\n",
    "import pandas as pd\n",
    "import numpy as np\n",
    "from matplotlib import pyplot as plt"
   ]
  },
  {
   "cell_type": "code",
   "execution_count": 3,
   "id": "e29f37d5",
   "metadata": {},
   "outputs": [
    {
     "name": "stdout",
     "output_type": "stream",
     "text": [
      "<class 'pandas.core.frame.DataFrame'>\n",
      "RangeIndex: 1704 entries, 0 to 1703\n",
      "Data columns (total 6 columns):\n",
      " #   Column     Non-Null Count  Dtype  \n",
      "---  ------     --------------  -----  \n",
      " 0   country    1704 non-null   object \n",
      " 1   continent  1704 non-null   object \n",
      " 2   year       1704 non-null   int64  \n",
      " 3   lifeExp    1704 non-null   float64\n",
      " 4   pop        1704 non-null   int64  \n",
      " 5   gdpPercap  1704 non-null   float64\n",
      "dtypes: float64(2), int64(2), object(2)\n",
      "memory usage: 80.0+ KB\n"
     ]
    }
   ],
   "source": [
    "# 2 head(), describe(), info()\n",
    "# Retourne les x premières lignes\n",
    "gm.head(5)\n",
    "\n",
    "# Donne plusieurs informations des valeurs numériques (nombre, moyenne, écart type, ...)\n",
    "gm.describe()\n",
    "\n",
    "#Affiche le type, l'utilisation de la mémoire, types des colonnes\n",
    "gm.info()\n",
    "\n"
   ]
  },
  {
   "cell_type": "code",
   "execution_count": 4,
   "id": "a2452f99",
   "metadata": {},
   "outputs": [
    {
     "data": {
      "text/plain": "array([[<AxesSubplot:title={'center':'year'}>,\n        <AxesSubplot:title={'center':'lifeExp'}>],\n       [<AxesSubplot:title={'center':'pop'}>,\n        <AxesSubplot:title={'center':'gdpPercap'}>]], dtype=object)"
     },
     "execution_count": 4,
     "metadata": {},
     "output_type": "execute_result"
    },
    {
     "data": {
      "text/plain": "<Figure size 432x288 with 4 Axes>",
      "image/png": "[encoded data removed]"
     },
     "metadata": {
      "needs_background": "light"
     },
     "output_type": "display_data"
    }
   ],
   "source": [
    "# 3\n",
    "\n",
    "gm.hist()"
   ]
  },
  {
   "cell_type": "markdown",
   "id": "9df45268",
   "metadata": {},
   "source": [
    "# Q1 Que pouvez-vous conclure à partir de ces histogrammes ?"
   ]
  },
  {
   "cell_type": "markdown",
   "id": "d8efada5",
   "metadata": {},
   "source": [
    "LifeEXP : On remarque que la plupart des mesures indiques un life exp centré sur la droite (asymétrique positive) : c'est à dire qu'une majorité de mesures donnaient de bonnes espérances de vies\n",
    "\n",
    "Pop :  On remarque qu'il y a quelques mesures \"extrêmes\", c'est à dire qui semblent assez abherrantes comparées à la plupart des autres mesures. Ici l'histogramme n'est pas adapté car ce n'est pas visible.\n",
    "\n",
    "Year: On remarque que y'a beaucoup de mesures avant 1960, très stable entre ~1960 et 2000, et de nouveau beaucoup de mesures > 2000\n",
    "\n",
    "gdpPerCap : On remarque que la plupart des données se situent sur la gauche (peut-être que la plupart sont des pays pauvres) avec des mesures \"abherrantes\"  avec un PIB/hab qui explose le reste."
   ]
  },
  {
   "cell_type": "code",
   "execution_count": 5,
   "id": "109585f4",
   "metadata": {},
   "outputs": [
    {
     "name": "stdout",
     "output_type": "stream",
     "text": [
      "country\n",
      "Afghanistan           12\n",
      "Albania               12\n",
      "Algeria               12\n",
      "Angola                12\n",
      "Argentina             12\n",
      "                      ..\n",
      "Vietnam               12\n",
      "West Bank and Gaza    12\n",
      "Yemen, Rep.           12\n",
      "Zambia                12\n",
      "Zimbabwe              12\n",
      "Length: 142, dtype: int64\n",
      "Pays avec des données manquantes :\n",
      "Series([], dtype: float64)\n"
     ]
    }
   ],
   "source": [
    "# 4 Afficher le nombre de mesures par pays\n",
    "countPerCountries = gm.groupby(by=[\"country\"]).size()\n",
    "print(countPerCountries)\n",
    "\n",
    "print(\"Pays avec des données manquantes :\")\n",
    "# Vérifier si'il y a des données qui manquent\n",
    "print(countPerCountries.where(lambda x: x != 12).dropna())"
   ]
  },
  {
   "cell_type": "code",
   "execution_count": 6,
   "id": "6bc353ea",
   "metadata": {},
   "outputs": [
    {
     "name": "stdout",
     "output_type": "stream",
     "text": [
      "['Afghanistan' 'Albania' 'Algeria' 'Angola' 'Argentina' 'Australia'\n",
      " 'Austria' 'Bahrain' 'Bangladesh' 'Belgium' 'Benin' 'Bolivia'\n",
      " 'Bosnia and Herzegovina' 'Botswana' 'Brazil' 'Bulgaria' 'Burkina Faso'\n",
      " 'Burundi' 'Cambodia' 'Cameroon' 'Canada' 'Central African Republic'\n",
      " 'Chad' 'Chile' 'China' 'Colombia' 'Comoros' 'Congo, Dem. Rep.'\n",
      " 'Congo, Rep.' 'Costa Rica' \"Cote d'Ivoire\" 'Croatia' 'Cuba'\n",
      " 'Czech Republic' 'Denmark' 'Djibouti' 'Dominican Republic' 'Ecuador'\n",
      " 'Egypt' 'El Salvador' 'Equatorial Guinea' 'Eritrea' 'Ethiopia' 'Finland'\n",
      " 'France' 'Gabon' 'Gambia' 'Germany' 'Ghana' 'Greece' 'Guatemala' 'Guinea'\n",
      " 'Guinea-Bissau' 'Haiti' 'Honduras' 'Hong Kong, China' 'Hungary' 'Iceland'\n",
      " 'India' 'Indonesia' 'Iran' 'Iraq' 'Ireland' 'Israel' 'Italy' 'Jamaica'\n",
      " 'Japan' 'Jordan' 'Kenya' 'Korea, Dem. Rep.' 'Korea, Rep.' 'Kuwait'\n",
      " 'Lebanon' 'Lesotho' 'Liberia' 'Libya' 'Madagascar' 'Malawi' 'Malaysia'\n",
      " 'Mali' 'Mauritania' 'Mauritius' 'Mexico' 'Mongolia' 'Montenegro'\n",
      " 'Morocco' 'Mozambique' 'Myanmar' 'Namibia' 'Nepal' 'Netherlands'\n",
      " 'New Zealand' 'Nicaragua' 'Niger' 'Nigeria' 'Norway' 'Oman' 'Pakistan'\n",
      " 'Panama' 'Paraguay' 'Peru' 'Philippines' 'Poland' 'Portugal'\n",
      " 'Puerto Rico' 'Reunion' 'Romania' 'Rwanda' 'Sao Tome and Principe'\n",
      " 'Saudi Arabia' 'Senegal' 'Serbia' 'Sierra Leone' 'Singapore'\n",
      " 'Slovak Republic' 'Slovenia' 'Somalia' 'South Africa' 'Spain' 'Sri Lanka'\n",
      " 'Sudan' 'Swaziland' 'Sweden' 'Switzerland' 'Syria' 'Taiwan' 'Tanzania'\n",
      " 'Thailand' 'Togo' 'Trinidad and Tobago' 'Tunisia' 'Turkey' 'Uganda'\n",
      " 'United Kingdom' 'United States' 'Uruguay' 'Venezuela' 'Vietnam'\n",
      " 'West Bank and Gaza' 'Yemen, Rep.' 'Zambia' 'Zimbabwe']\n",
      "['Asia' 'Europe' 'Africa' 'Americas' 'Oceania']\n",
      "[1952 1957 1962 1967 1972 1977 1982 1987 1992 1997 2002 2007]\n"
     ]
    }
   ],
   "source": [
    "# 5 Lister les valeurs uniques\n",
    "print(gm[\"country\"].unique())\n",
    "print(gm[\"continent\"].unique())\n",
    "print(gm[\"year\"].unique())"
   ]
  },
  {
   "cell_type": "code",
   "execution_count": 7,
   "id": "26a64c0f",
   "metadata": {},
   "outputs": [
    {
     "data": {
      "text/plain": "<AxesSubplot:title={'center':'Moyenne des espérances de vie de tous les plays'}, xlabel='Année', ylabel='Espérance de vie'>"
     },
     "execution_count": 7,
     "metadata": {},
     "output_type": "execute_result"
    },
    {
     "data": {
      "text/plain": "<Figure size 432x288 with 1 Axes>",
      "image/png": "[encoded data removed]"
     },
     "metadata": {
      "needs_background": "light"
     },
     "output_type": "display_data"
    }
   ],
   "source": [
    "# 6\n",
    "year = [1952, 2007]\n",
    "gm.groupby(['year']).describe()['lifeExp'][\"mean\"].loc[year].plot.bar(xlabel = \"Année\", ylabel = \"Espérance de vie\", title = \"Moyenne des espérances de vie de tous les plays\")"
   ]
  },
  {
   "cell_type": "code",
   "execution_count": 8,
   "id": "a4245197",
   "metadata": {},
   "outputs": [
    {
     "data": {
      "text/plain": "<AxesSubplot:xlabel='Année', ylabel='Espérance de vie'>"
     },
     "execution_count": 8,
     "metadata": {},
     "output_type": "execute_result"
    },
    {
     "data": {
      "text/plain": "<Figure size 1008x504 with 1 Axes>",
      "image/png": "[encoded data removed]"
     },
     "metadata": {
      "needs_background": "light"
     },
     "output_type": "display_data"
    }
   ],
   "source": [
    "condition = gm[\"year\"].isin(year)\n",
    "filteredData = gm[condition]\n",
    "description = filteredData.groupby([\"continent\", 'year']).describe()\n",
    "lifeExpMeansPerContinent =  description[\"lifeExp\"][\"mean\"]\n",
    "unstacked = lifeExpMeansPerContinent.unstack(level=1)\n",
    "\n",
    "unstacked.plot.bar(grid = True, xlabel = \"Année\", ylabel = \"Espérance de vie\", figsize=(14, 7))\n"
   ]
  },
  {
   "cell_type": "code",
   "execution_count": 9,
   "outputs": [
    {
     "ename": "KeyError",
     "evalue": "2007",
     "output_type": "error",
     "traceback": [
      "\u001B[1;31m---------------------------------------------------------------------------\u001B[0m",
      "\u001B[1;31mKeyError\u001B[0m                                  Traceback (most recent call last)",
      "File \u001B[1;32m~\\miniconda3\\envs\\isd\\lib\\site-packages\\pandas\\core\\indexes\\base.py:3621\u001B[0m, in \u001B[0;36mIndex.get_loc\u001B[1;34m(self, key, method, tolerance)\u001B[0m\n\u001B[0;32m   3620\u001B[0m \u001B[38;5;28;01mtry\u001B[39;00m:\n\u001B[1;32m-> 3621\u001B[0m     \u001B[38;5;28;01mreturn\u001B[39;00m \u001B[38;5;28;43mself\u001B[39;49m\u001B[38;5;241;43m.\u001B[39;49m\u001B[43m_engine\u001B[49m\u001B[38;5;241;43m.\u001B[39;49m\u001B[43mget_loc\u001B[49m\u001B[43m(\u001B[49m\u001B[43mcasted_key\u001B[49m\u001B[43m)\u001B[49m\n\u001B[0;32m   3622\u001B[0m \u001B[38;5;28;01mexcept\u001B[39;00m \u001B[38;5;167;01mKeyError\u001B[39;00m \u001B[38;5;28;01mas\u001B[39;00m err:\n",
      "File \u001B[1;32m~\\miniconda3\\envs\\isd\\lib\\site-packages\\pandas\\_libs\\index.pyx:136\u001B[0m, in \u001B[0;36mpandas._libs.index.IndexEngine.get_loc\u001B[1;34m()\u001B[0m\n",
      "File \u001B[1;32m~\\miniconda3\\envs\\isd\\lib\\site-packages\\pandas\\_libs\\index.pyx:163\u001B[0m, in \u001B[0;36mpandas._libs.index.IndexEngine.get_loc\u001B[1;34m()\u001B[0m\n",
      "File \u001B[1;32mpandas\\_libs\\hashtable_class_helper.pxi:5198\u001B[0m, in \u001B[0;36mpandas._libs.hashtable.PyObjectHashTable.get_item\u001B[1;34m()\u001B[0m\n",
      "File \u001B[1;32mpandas\\_libs\\hashtable_class_helper.pxi:5206\u001B[0m, in \u001B[0;36mpandas._libs.hashtable.PyObjectHashTable.get_item\u001B[1;34m()\u001B[0m\n",
      "\u001B[1;31mKeyError\u001B[0m: 2007",
      "\nThe above exception was the direct cause of the following exception:\n",
      "\u001B[1;31mKeyError\u001B[0m                                  Traceback (most recent call last)",
      "Input \u001B[1;32mIn [9]\u001B[0m, in \u001B[0;36m<module>\u001B[1;34m\u001B[0m\n\u001B[0;32m      1\u001B[0m \u001B[38;5;66;03m# Q2\u001B[39;00m\n\u001B[1;32m----> 2\u001B[0m meansDifference \u001B[38;5;241m=\u001B[39m \u001B[43munstacked\u001B[49m\u001B[38;5;241;43m.\u001B[39;49m\u001B[43mloc\u001B[49m\u001B[43m[\u001B[49m\u001B[38;5;241;43m2007\u001B[39;49m\u001B[43m]\u001B[49m \u001B[38;5;241m-\u001B[39m unstacked\u001B[38;5;241m.\u001B[39mloc[\u001B[38;5;241m1952\u001B[39m]\n\u001B[0;32m      3\u001B[0m \u001B[38;5;28mprint\u001B[39m(\u001B[38;5;124m\"\u001B[39m\u001B[38;5;124mContinent avec le plus d\u001B[39m\u001B[38;5;124m'\u001B[39m\u001B[38;5;124maugmentation absolu\u001B[39m\u001B[38;5;124m\"\u001B[39m)\n\u001B[0;32m      4\u001B[0m display(meansDifference\u001B[38;5;241m.\u001B[39midxmax(), meansDifference\u001B[38;5;241m.\u001B[39mmax())\n",
      "File \u001B[1;32m~\\miniconda3\\envs\\isd\\lib\\site-packages\\pandas\\core\\indexing.py:967\u001B[0m, in \u001B[0;36m_LocationIndexer.__getitem__\u001B[1;34m(self, key)\u001B[0m\n\u001B[0;32m    964\u001B[0m axis \u001B[38;5;241m=\u001B[39m \u001B[38;5;28mself\u001B[39m\u001B[38;5;241m.\u001B[39maxis \u001B[38;5;129;01mor\u001B[39;00m \u001B[38;5;241m0\u001B[39m\n\u001B[0;32m    966\u001B[0m maybe_callable \u001B[38;5;241m=\u001B[39m com\u001B[38;5;241m.\u001B[39mapply_if_callable(key, \u001B[38;5;28mself\u001B[39m\u001B[38;5;241m.\u001B[39mobj)\n\u001B[1;32m--> 967\u001B[0m \u001B[38;5;28;01mreturn\u001B[39;00m \u001B[38;5;28;43mself\u001B[39;49m\u001B[38;5;241;43m.\u001B[39;49m\u001B[43m_getitem_axis\u001B[49m\u001B[43m(\u001B[49m\u001B[43mmaybe_callable\u001B[49m\u001B[43m,\u001B[49m\u001B[43m \u001B[49m\u001B[43maxis\u001B[49m\u001B[38;5;241;43m=\u001B[39;49m\u001B[43maxis\u001B[49m\u001B[43m)\u001B[49m\n",
      "File \u001B[1;32m~\\miniconda3\\envs\\isd\\lib\\site-packages\\pandas\\core\\indexing.py:1202\u001B[0m, in \u001B[0;36m_LocIndexer._getitem_axis\u001B[1;34m(self, key, axis)\u001B[0m\n\u001B[0;32m   1200\u001B[0m \u001B[38;5;66;03m# fall thru to straight lookup\u001B[39;00m\n\u001B[0;32m   1201\u001B[0m \u001B[38;5;28mself\u001B[39m\u001B[38;5;241m.\u001B[39m_validate_key(key, axis)\n\u001B[1;32m-> 1202\u001B[0m \u001B[38;5;28;01mreturn\u001B[39;00m \u001B[38;5;28;43mself\u001B[39;49m\u001B[38;5;241;43m.\u001B[39;49m\u001B[43m_get_label\u001B[49m\u001B[43m(\u001B[49m\u001B[43mkey\u001B[49m\u001B[43m,\u001B[49m\u001B[43m \u001B[49m\u001B[43maxis\u001B[49m\u001B[38;5;241;43m=\u001B[39;49m\u001B[43maxis\u001B[49m\u001B[43m)\u001B[49m\n",
      "File \u001B[1;32m~\\miniconda3\\envs\\isd\\lib\\site-packages\\pandas\\core\\indexing.py:1153\u001B[0m, in \u001B[0;36m_LocIndexer._get_label\u001B[1;34m(self, label, axis)\u001B[0m\n\u001B[0;32m   1151\u001B[0m \u001B[38;5;28;01mdef\u001B[39;00m \u001B[38;5;21m_get_label\u001B[39m(\u001B[38;5;28mself\u001B[39m, label, axis: \u001B[38;5;28mint\u001B[39m):\n\u001B[0;32m   1152\u001B[0m     \u001B[38;5;66;03m# GH#5667 this will fail if the label is not present in the axis.\u001B[39;00m\n\u001B[1;32m-> 1153\u001B[0m     \u001B[38;5;28;01mreturn\u001B[39;00m \u001B[38;5;28;43mself\u001B[39;49m\u001B[38;5;241;43m.\u001B[39;49m\u001B[43mobj\u001B[49m\u001B[38;5;241;43m.\u001B[39;49m\u001B[43mxs\u001B[49m\u001B[43m(\u001B[49m\u001B[43mlabel\u001B[49m\u001B[43m,\u001B[49m\u001B[43m \u001B[49m\u001B[43maxis\u001B[49m\u001B[38;5;241;43m=\u001B[39;49m\u001B[43maxis\u001B[49m\u001B[43m)\u001B[49m\n",
      "File \u001B[1;32m~\\miniconda3\\envs\\isd\\lib\\site-packages\\pandas\\core\\generic.py:3876\u001B[0m, in \u001B[0;36mNDFrame.xs\u001B[1;34m(self, key, axis, level, drop_level)\u001B[0m\n\u001B[0;32m   3874\u001B[0m             new_index \u001B[38;5;241m=\u001B[39m index[loc]\n\u001B[0;32m   3875\u001B[0m \u001B[38;5;28;01melse\u001B[39;00m:\n\u001B[1;32m-> 3876\u001B[0m     loc \u001B[38;5;241m=\u001B[39m \u001B[43mindex\u001B[49m\u001B[38;5;241;43m.\u001B[39;49m\u001B[43mget_loc\u001B[49m\u001B[43m(\u001B[49m\u001B[43mkey\u001B[49m\u001B[43m)\u001B[49m\n\u001B[0;32m   3878\u001B[0m     \u001B[38;5;28;01mif\u001B[39;00m \u001B[38;5;28misinstance\u001B[39m(loc, np\u001B[38;5;241m.\u001B[39mndarray):\n\u001B[0;32m   3879\u001B[0m         \u001B[38;5;28;01mif\u001B[39;00m loc\u001B[38;5;241m.\u001B[39mdtype \u001B[38;5;241m==\u001B[39m np\u001B[38;5;241m.\u001B[39mbool_:\n",
      "File \u001B[1;32m~\\miniconda3\\envs\\isd\\lib\\site-packages\\pandas\\core\\indexes\\base.py:3623\u001B[0m, in \u001B[0;36mIndex.get_loc\u001B[1;34m(self, key, method, tolerance)\u001B[0m\n\u001B[0;32m   3621\u001B[0m     \u001B[38;5;28;01mreturn\u001B[39;00m \u001B[38;5;28mself\u001B[39m\u001B[38;5;241m.\u001B[39m_engine\u001B[38;5;241m.\u001B[39mget_loc(casted_key)\n\u001B[0;32m   3622\u001B[0m \u001B[38;5;28;01mexcept\u001B[39;00m \u001B[38;5;167;01mKeyError\u001B[39;00m \u001B[38;5;28;01mas\u001B[39;00m err:\n\u001B[1;32m-> 3623\u001B[0m     \u001B[38;5;28;01mraise\u001B[39;00m \u001B[38;5;167;01mKeyError\u001B[39;00m(key) \u001B[38;5;28;01mfrom\u001B[39;00m \u001B[38;5;21;01merr\u001B[39;00m\n\u001B[0;32m   3624\u001B[0m \u001B[38;5;28;01mexcept\u001B[39;00m \u001B[38;5;167;01mTypeError\u001B[39;00m:\n\u001B[0;32m   3625\u001B[0m     \u001B[38;5;66;03m# If we have a listlike key, _check_indexing_error will raise\u001B[39;00m\n\u001B[0;32m   3626\u001B[0m     \u001B[38;5;66;03m#  InvalidIndexError. Otherwise we fall through and re-raise\u001B[39;00m\n\u001B[0;32m   3627\u001B[0m     \u001B[38;5;66;03m#  the TypeError.\u001B[39;00m\n\u001B[0;32m   3628\u001B[0m     \u001B[38;5;28mself\u001B[39m\u001B[38;5;241m.\u001B[39m_check_indexing_error(key)\n",
      "\u001B[1;31mKeyError\u001B[0m: 2007"
     ]
    }
   ],
   "source": [
    "# Q2\n",
    "meansDifference = unstacked.loc[2007] - unstacked.loc[1952]\n",
    "print(\"Continent avec le plus d'augmentation absolu\")\n",
    "display(meansDifference.idxmax(), meansDifference.max())"
   ],
   "metadata": {
    "collapsed": false,
    "pycharm": {
     "name": "#%%\n"
    }
   }
  },
  {
   "cell_type": "markdown",
   "source": [
    "# Q2\n",
    "\n",
    "On peut remarquer, en calculant la valeur et en observant le graphique, que le continent ayant eu le plus d'augmentation est l'Asie avec +24 années en plus."
   ],
   "metadata": {
    "collapsed": false,
    "pycharm": {
     "name": "#%% md\n"
    }
   }
  },
  {
   "cell_type": "code",
   "execution_count": null,
   "outputs": [],
   "source": [
    "# 8\n",
    "\n",
    "factor = 100_000\n",
    "ylabel =  \"Moyenne du nombre d'habitants (pour \" + str(factor) + \" habitants)\"\n",
    "popMeansPerContinentYear = gm.groupby([\"continent\", \"year\"])[\"pop\"].mean().apply(lambda x: int(x)) / factor\n",
    "axes = popMeansPerContinentYear.unstack(level=0).plot(figsize=(12, 7), xlabel = \"Année\", ylabel = ylabel)\n",
    "axes.ticklabel_format(style=\"plain\", useOffset=True)\n"
   ],
   "metadata": {
    "collapsed": false,
    "pycharm": {
     "name": "#%%\n"
    }
   }
  },
  {
   "cell_type": "markdown",
   "source": [
    "# Q3\n",
    "\n",
    "Nous remarquons de là que la moyenne d'habitant par continent a énormément progresser en asie. Celui-ci est rester relativement stable dans les autres pays, sauf dans les amériques où il a légèrement augmenté. C'est très certainement dû à la Chine qui a tiré les moyenne vers le haut"
   ],
   "metadata": {
    "collapsed": false
   }
  },
  {
   "cell_type": "code",
   "execution_count": null,
   "outputs": [],
   "source": [
    "countries = gm[gm[\"year\"].isin(year)][[\"country\", \"continent\", \"pop\", \"gdpPercap\", \"year\", \"lifeExp\"]]\n",
    "map = {\"Asia\": \"blue\", \"Europe\" : \"orange\", \"Africa\" : \"green\", \"Oceania\": \"red\", \"Americas\":\"black\"}\n",
    "\n",
    "years = countries.groupby(\"year\")\n",
    "fontsize = 22\n",
    "def plot_year(title, yearGroup):\n",
    "    continents = yearGroup.groupby(\"continent\")\n",
    "    fig, ax = plt.subplots(figsize=(16, 6))\n",
    "    for key, group in continents:\n",
    "        scatter  = group.plot.scatter(ax=ax, fontsize=fontsize, ylabel=\"Espérance de vie\",  x=\"gdpPercap\", y=\"lifeExp\", label=key, color=map[key])\n",
    "        scatter.set_xlabel(\"PIB / Habitant\", fontsize=fontsize)\n",
    "        scatter.set_ylabel(\"Espérance de vie\", fontsize=fontsize)\n",
    "        scatter.set_title(title, fontsize=fontsize)\n",
    "for key, group in years:\n",
    "    plot_year(key, group)\n"
   ],
   "metadata": {
    "collapsed": false,
    "pycharm": {
     "name": "#%%\n"
    }
   }
  },
  {
   "cell_type": "markdown",
   "source": [
    "# Q4\n",
    "\n",
    "Nous remarquons ici que les pays africains sont parmis les pays avec la plus faibles espérance de vie et pib / habitant. Aussi, nous avons une valeur aberrantes en 1952, qui étire l'axe X du graphe sur la droite, donnant l'impression que que la plupart des pays sont pauvres. Nous remarquons aussi que, comme observés avec les graphiques précédents, les pays asiatiques ont vu leur PIB / habitant et l'eur espérance de vie exploser. Il semblerait aussi qu'il y a une certaines corrélation entre PIB / habitant et l'espérance de vie."
   ],
   "metadata": {
    "collapsed": false,
    "pycharm": {
     "name": "#%% md\n"
    }
   }
  },
  {
   "cell_type": "code",
   "source": [
    "# 10\n",
    "\n",
    "def scale(serie):\n",
    "    max = serie.max()\n",
    "    return serie / max\n",
    "\n",
    "def plot_year_with_marker_sizes(title, yearGroup):\n",
    "    continents = yearGroup.groupby(\"continent\")\n",
    "    fig, ax = plt.subplots(figsize=(16, 6))\n",
    "    for key, group in continents:\n",
    "        scatter  = group.plot.scatter(ax=ax, fontsize=fontsize, ylabel=\"Espérance de vie\", s=30 + scale(group[\"pop\"]) * 150,  x=\"gdpPercap\", y=\"lifeExp\", label=key, color=map[key])\n",
    "        scatter.set_xlabel(\"PIB / Habitant\", fontsize=fontsize)\n",
    "        scatter.set_ylabel(\"Espérance de vie\", fontsize=fontsize)\n",
    "        scatter.set_title(title, fontsize=fontsize)\n",
    "\n",
    "\n",
    "for key, group in years:\n",
    "    plot_year_with_marker_sizes(key, group)\n",
    "\n"
   ],
   "metadata": {
    "collapsed": false,
    "pycharm": {
     "name": "#%%\n"
    }
   },
   "execution_count": null,
   "outputs": []
  },
  {
   "cell_type": "code",
   "execution_count": null,
   "outputs": [],
   "source": [
    "# 11\n",
    "def display_scatter_pop_gdp(data, title) :\n",
    "    f, ax = plt.subplots()\n",
    "    for continentName, continentData in data.groupby(\"continent\") :\n",
    "        scatter = continentData.plot.scatter(ax=ax, x=\"gdpPercap\", y=\"pop\", s=50, label=continentName, color=map[continentName], figsize=(20,12), alpha=0.6)\n",
    "        scatter.set_xlabel(\"PIB / Habitant\", fontsize=fontsize)\n",
    "        scatter.set_ylabel(\"Espérance de vie\", fontsize=fontsize)\n",
    "        scatter.set_title(title, fontsize=fontsize)\n",
    "\n",
    "lastYearData = gm.loc[gm.year == 2007, ['country', 'continent', 'gdpPercap', 'pop']]\n",
    "firstYearData = gm.loc[gm.year == 1952, ['country', 'continent', 'gdpPercap', 'pop']]\n",
    "\n",
    "lastYearData[\"pop\"] = lastYearData[\"pop\"].values - firstYearData[\"pop\"].values\n",
    "\n",
    "\n",
    "display_scatter_pop_gdp(lastYearData, \"Augmentation de la population par rapport au PIB / hab\")\n",
    "\n",
    "lastYearData[\"pop\"] = lastYearData[\"pop\"][lastYearData[\"pop\"].values < 10 ** 7]\n",
    "display_scatter_pop_gdp(lastYearData, \"Augmentation de la population par rapport au PIB / hab, sans valeurs aberrantes (pour comparaison)\")"
   ],
   "metadata": {
    "collapsed": false,
    "pycharm": {
     "name": "#%%\n"
    }
   }
  },
  {
   "cell_type": "markdown",
   "source": [
    "# Q5\n",
    "Nous observons là que les populations européennes ont bien moins augmenté que les pas africains et asiatiques. Ce sont aussi  des pays pauvres avec un faible PIB / habitant qui ont eu l'augmentation la plus forte. Les pays les plus riches sont généralement les pays européens."
   ],
   "metadata": {
    "collapsed": false,
    "pycharm": {
     "name": "#%% md\n"
    }
   }
  }
 ],
 "metadata": {
  "kernelspec": {
   "display_name": "Python 3 (ipykernel)",
   "language": "python",
   "name": "python3"
  },
  "language_info": {
   "codemirror_mode": {
    "name": "ipython",
    "version": 3
   },
   "file_extension": ".py",
   "mimetype": "text/x-python",
   "name": "python",
   "nbconvert_exporter": "python",
   "pygments_lexer": "ipython3",
   "version": "3.9.7"
  }
 },
 "nbformat": 4,
 "nbformat_minor": 5
}