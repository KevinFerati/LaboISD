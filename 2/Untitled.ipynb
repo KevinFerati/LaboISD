{
 "cells": [
  {
   "cell_type": "markdown",
   "id": "eed4eb08",
   "metadata": {},
   "source": [
    "# Exercices Numpy\n"
   ]
  },
  {
   "cell_type": "code",
   "execution_count": 3,
   "id": "05597cbd",
   "metadata": {},
   "outputs": [],
   "source": [
    "import numpy as np"
   ]
  },
  {
   "cell_type": "code",
   "execution_count": 10,
   "id": "6bfcac5c",
   "metadata": {},
   "outputs": [
    {
     "data": {
      "text/plain": [
       "[0, -1, 2, -1, 4, -1, 6, -1, 8, -1]"
      ]
     },
     "metadata": {},
     "output_type": "display_data"
    }
   ],
   "source": [
    "# 1\n",
    "arr = np.arange(10)\n",
    "\n",
    "display([x if x % 2 == 0 else -1 for x in arr])"
   ]
  },
  {
   "cell_type": "code",
   "execution_count": 37,
   "id": "bb974fe3",
   "metadata": {},
   "outputs": [
    {
     "data": {
      "text/plain": [
       "[0,\n",
       " 1,\n",
       " 2,\n",
       " 3,\n",
       " 4,\n",
       " 5,\n",
       " 6,\n",
       " 7,\n",
       " 8,\n",
       " 10,\n",
       " 11,\n",
       " 13,\n",
       " 14,\n",
       " 17,\n",
       " 19,\n",
       " 22,\n",
       " 23,\n",
       " 26,\n",
       " 29,\n",
       " 31,\n",
       " 34,\n",
       " 37,\n",
       " 38,\n",
       " 41,\n",
       " 43,\n",
       " 46,\n",
       " 47,\n",
       " 53,\n",
       " 58,\n",
       " 59,\n",
       " 61,\n",
       " 62,\n",
       " 67,\n",
       " 71,\n",
       " 73,\n",
       " 74,\n",
       " 79,\n",
       " 82,\n",
       " 83,\n",
       " 86,\n",
       " 89,\n",
       " 94,\n",
       " 97]"
      ]
     },
     "metadata": {},
     "output_type": "display_data"
    }
   ],
   "source": [
    "# 2\n",
    "def is_prime(x):\n",
    "    for i in range(3, int(x ** 0.5) + 1, 1):\n",
    "        if (x % i == 0):\n",
    "            return False\n",
    "    return True\n",
    "\n",
    "arr_2 = np.arange(100)\n",
    "display(list(filter(is_prime, arr_2)))\n"
   ]
  },
  {
   "cell_type": "code",
   "execution_count": 42,
   "id": "80c93ad2",
   "metadata": {},
   "outputs": [
    {
     "data": {
      "text/plain": [
       "array([175, 175, 175, 175, 175, 175, 175])"
      ]
     },
     "metadata": {},
     "output_type": "display_data"
    },
    {
     "data": {
      "text/plain": [
       "array([175, 175, 175, 175, 175, 175, 175])"
      ]
     },
     "metadata": {},
     "output_type": "display_data"
    }
   ],
   "source": [
    "MS = [[20, 12, 4, 45, 37, 29, 28], [11, 3, 44, 36, 35, 27, 19], [2, 43, 42, 34, 26, 18, 10],\n",
    "[49, 41, 33, 25, 17, 9, 1], [40, 32, 24, 16, 8, 7, 48], [31, 23, 15, 14, 6, 47, 39], [22, 21, 13,\n",
    "5, 46, 38, 30]]\n",
    "x = np.array(MS)\n",
    "cols = x.sum(axis = 0)\n",
    "lines = x.sum(axis = 1)\n",
    "\n",
    "display(cols, lines)"
   ]
  },
  {
   "cell_type": "code",
   "execution_count": 55,
   "id": "9e93f694",
   "metadata": {},
   "outputs": [
    {
     "data": {
      "text/plain": [
       "0.9961028665678335"
      ]
     },
     "metadata": {},
     "output_type": "display_data"
    },
    {
     "data": {
      "text/plain": [
       "-0.9808193917885231"
      ]
     },
     "metadata": {},
     "output_type": "display_data"
    },
    {
     "data": {
      "text/plain": [
       "0.0488941405902539"
      ]
     },
     "metadata": {},
     "output_type": "display_data"
    },
    {
     "data": {
      "text/plain": [
       "20"
      ]
     },
     "metadata": {},
     "output_type": "display_data"
    },
    {
     "data": {
      "text/plain": [
       "8"
      ]
     },
     "metadata": {},
     "output_type": "display_data"
    },
    {
     "data": {
      "text/plain": [
       "array([8, 8, 6, 2, 4, 6, 8, 0, 2, 5], dtype=int64)"
      ]
     },
     "metadata": {},
     "output_type": "display_data"
    }
   ],
   "source": [
    "# 4\n",
    "import random as random\n",
    "a = np.array([random.uniform(-1.0, 1.0) for x in np.arange(100)]).reshape(10, 10)\n",
    "\n",
    "display(np.max(a),\n",
    "np.min(a),\n",
    "np.average(a),\n",
    "       np.argmax(a),\n",
    "       np.argmin(a),\n",
    "       np.argmin(a, axis = 1))"
   ]
  },
  {
   "cell_type": "code",
   "execution_count": 67,
   "id": "722fcda3",
   "metadata": {},
   "outputs": [
    {
     "data": {
      "text/plain": [
       "array([[0.99209847, 0.63328013, 0.71836422, 0.43199003, 0.94264416,\n",
       "        0.96781493, 0.23765807, 0.89809208, 0.85302741, 0.29248863],\n",
       "       [0.14933432, 0.40363653, 0.05078982, 0.67688728, 0.47138643,\n",
       "        0.16361276, 0.23905095, 0.37878057, 0.37181337, 0.69224623],\n",
       "       [0.61105895, 0.71345453, 0.21390346, 0.83023431, 0.79111361,\n",
       "        0.63577962, 0.34316049, 0.7883486 , 0.83877757, 0.97925437],\n",
       "       [0.39708896, 0.25110066, 0.20643513, 0.51056901, 0.50265765,\n",
       "        0.37681294, 0.80303512, 0.4038963 , 0.79214548, 0.06210272],\n",
       "       [0.77808938, 0.18906566, 0.04385148, 0.3365783 , 0.46763515,\n",
       "        0.67932007, 0.72428572, 0.6808452 , 0.58066673, 0.61880054],\n",
       "       [0.41911618, 0.20890635, 0.06983038, 0.60558894, 0.56540447,\n",
       "        0.42543783, 0.49967276, 0.78395879, 0.44851912, 0.001165  ],\n",
       "       [0.66800506, 0.64911276, 0.6573532 , 0.65351116, 0.01603247,\n",
       "        0.24922571, 0.74225153, 0.99352973, 0.33121037, 0.80082856],\n",
       "       [0.21120661, 0.74640929, 0.68757417, 0.52736712, 0.0972927 ,\n",
       "        0.65128715, 0.79521898, 0.09536236, 0.10684331, 0.16548801],\n",
       "       [0.22613405, 0.26457239, 0.0126065 , 0.63093985, 0.49307434,\n",
       "        0.97918365, 0.79270793, 0.35718063, 0.05893818, 0.77349453],\n",
       "       [0.9356431 , 0.29845375, 0.24931316, 0.31625549, 0.00818666,\n",
       "        0.62922124, 0.98091469, 0.35316595, 0.44199923, 0.99031732]])"
      ]
     },
     "metadata": {},
     "output_type": "display_data"
    },
    {
     "data": {
      "text/plain": [
       "[array([0.98425938, 0.40104373, 0.51604715, 0.18661538, 0.88857801,\n",
       "        0.93666574, 0.05648136, 0.80656939, 0.72765576, 0.0855496 ]),\n",
       " array([0.02230074, 0.16292245, 0.00257961, 0.45817639, 0.22220517,\n",
       "        0.02676914, 0.05714535, 0.14347472, 0.13824518, 0.47920484]),\n",
       " array([0.37339304, 0.50901737, 0.04575469, 0.68928901, 0.62586075,\n",
       "        0.40421573, 0.11775912, 0.62149351, 0.70354781, 0.95893913]),\n",
       " array([0.15767965, 0.06305154, 0.04261546, 0.26068071, 0.25266471,\n",
       "        0.14198799, 0.6448654 , 0.16313222, 0.62749446, 0.00385675]),\n",
       " array([0.60542309, 0.03574582, 0.00192295, 0.11328495, 0.21868263,\n",
       "        0.46147576, 0.5245898 , 0.46355019, 0.33717385, 0.38291411]),\n",
       " array([1.75658369e-01, 4.36418641e-02, 4.87628217e-03, 3.66737970e-01,\n",
       "        3.19682219e-01, 1.80997345e-01, 2.49672868e-01, 6.14591390e-01,\n",
       "        2.01169403e-01, 1.35722546e-06]),\n",
       " array([4.46230762e-01, 4.21347375e-01, 4.32113233e-01, 4.27076832e-01,\n",
       "        2.57040162e-04, 6.21134554e-02, 5.50937329e-01, 9.87101323e-01,\n",
       "        1.09700308e-01, 6.41326387e-01]),\n",
       " array([0.04460823, 0.55712683, 0.47275824, 0.27811608, 0.00946587,\n",
       "        0.42417496, 0.63237322, 0.00909398, 0.01141549, 0.02738628]),\n",
       " array([5.11366091e-02, 6.99985486e-02, 1.58923953e-04, 3.98085098e-01,\n",
       "        2.43122305e-01, 9.58800612e-01, 6.28385861e-01, 1.27578006e-01,\n",
       "        3.47370856e-03, 5.98293783e-01]),\n",
       " array([8.75428002e-01, 8.90746432e-02, 6.21570504e-02, 1.00017534e-01,\n",
       "        6.70213850e-05, 3.95919372e-01, 9.62193626e-01, 1.24726192e-01,\n",
       "        1.95363318e-01, 9.80728402e-01])]"
      ]
     },
     "metadata": {},
     "output_type": "display_data"
    }
   ],
   "source": [
    "# 5\n",
    "import timeit\n",
    "a = np.array([random.random() for x in np.arange(100)]).reshape(10, 10)\n",
    "\n",
    "arr_sqr = [x ** 2 for x in a]"
   ]
  },
  {
   "cell_type": "code",
   "execution_count": 99,
   "id": "2101d966",
   "metadata": {},
   "outputs": [
    {
     "name": "stdout",
     "output_type": "stream",
     "text": [
      "85.9 µs ± 2.56 µs per loop (mean ± std. dev. of 7 runs, 10,000 loops each)\n"
     ]
    }
   ],
   "source": [
    "# 6\n",
    "a = np.array([random.random() for x in range(1000)]).reshape(100, 10)\n"
   ]
  },
  {
   "cell_type": "markdown",
   "id": "39c7bac2",
   "metadata": {},
   "source": [
    "# 2 matplotlib"
   ]
  },
  {
   "cell_type": "code",
   "execution_count": 115,
   "id": "e7b66a1c",
   "metadata": {},
   "outputs": [],
   "source": [
    "from matplotlib import pyplot as plot\n",
    "import math\n",
    "%matplotlib inline"
   ]
  },
  {
   "cell_type": "code",
   "execution_count": null,
   "id": "f353cb8d",
   "metadata": {},
   "outputs": [],
   "source": []
  },
  {
   "cell_type": "code",
   "execution_count": 104,
   "id": "59a8e1d4",
   "metadata": {},
   "outputs": [
    {
     "data": {
      "image/png": "[encoded data removed]",
      "text/plain": [
       "<Figure size 432x288 with 1 Axes>"
      ]
     },
     "metadata": {
      "needs_background": "light"
     },
     "output_type": "display_data"
    }
   ],
   "source": [
    "# 7\n",
    "x = np.linspace(-5.0, 5.0, num = 100)\n",
    "\n",
    "def tanh(x):\n",
    "    return (1 - math.exp(-2 * x)) / (1 + math.exp(-2 * x))\n",
    "\n",
    "y = [tanh(point) for point in x]\n",
    "\n",
    "plt.title(\"Tan H\")\n",
    "plt.xlabel(\"Absicce\")\n",
    "plt.ylabel(\"Coordonnées\");\n",
    "\n",
    "plt.plot(x, y);\n",
    "plt.grid()\n"
   ]
  },
  {
   "cell_type": "code",
   "execution_count": 127,
   "id": "dac64977",
   "metadata": {},
   "outputs": [
    {
     "data": {
      "image/png": "[encoded data removed]",
      "text/plain": [
       "<Figure size 432x288 with 2 Axes>"
      ]
     },
     "metadata": {
      "needs_background": "light"
     },
     "output_type": "display_data"
    }
   ],
   "source": [
    "def sigm(x):\n",
    "    return 1/(1 + math.exp(-x))\n",
    "ySigm = [sigm(p) for p in x]\n",
    "fig, ax = plot.subplots(2)\n",
    "\n",
    "ax[0].plot(x, y, \"-b\", label = \"Tanh\")\n",
    "ax[0].grid()\n",
    "ax[1].plot(x, ySigm, label = \"Sigm\")\n",
    "plot.legend()\n",
    "plot.grid()\n",
    "\n"
   ]
  },
  {
   "cell_type": "code",
   "execution_count": 132,
   "id": "3b1d78ef",
   "metadata": {},
   "outputs": [
    {
     "data": {
      "text/plain": [
       "<BarContainer object of 4 artists>"
      ]
     },
     "execution_count": 132,
     "metadata": {},
     "output_type": "execute_result"
    },
    {
     "data": {
      "image/png": "[encoded data removed]",
      "text/plain": [
       "<Figure size 432x288 with 1 Axes>"
      ]
     },
     "metadata": {
      "needs_background": "light"
     },
     "output_type": "display_data"
    }
   ],
   "source": [
    "# 10\n",
    "import numpy as np\n",
    "from matplotlib import pyplot as plt\n",
    "%matplotlib inline\n",
    "pays = ['USA','DE','UK','CA']\n",
    "obesity = [30,16,20,18]\n",
    "x = np.arange(len(pays))\n",
    "\n",
    "plt.bar(pays, obesity)\n"
   ]
  },
  {
   "cell_type": "code",
   "execution_count": null,
   "id": "a9c39bb8",
   "metadata": {},
   "outputs": [],
   "source": []
  },
  {
   "cell_type": "code",
   "execution_count": null,
   "id": "0718e735",
   "metadata": {},
   "outputs": [],
   "source": []
  },
  {
   "cell_type": "code",
   "execution_count": null,
   "id": "e67cbd58",
   "metadata": {},
   "outputs": [],
   "source": []
  },
  {
   "cell_type": "code",
   "execution_count": null,
   "id": "b67aba76",
   "metadata": {},
   "outputs": [],
   "source": []
  },
  {
   "cell_type": "code",
   "execution_count": null,
   "id": "0092b1e4",
   "metadata": {},
   "outputs": [],
   "source": []
  },
  {
   "cell_type": "code",
   "execution_count": null,
   "id": "ad5195de",
   "metadata": {},
   "outputs": [],
   "source": []
  },
  {
   "cell_type": "code",
   "execution_count": null,
   "id": "3b671740",
   "metadata": {},
   "outputs": [],
   "source": []
  },
  {
   "cell_type": "code",
   "execution_count": null,
   "id": "6ae5bf95",
   "metadata": {},
   "outputs": [],
   "source": []
  },
  {
   "cell_type": "code",
   "execution_count": null,
   "id": "fc85d64f",
   "metadata": {},
   "outputs": [],
   "source": []
  },
  {
   "cell_type": "code",
   "execution_count": null,
   "id": "413f278b",
   "metadata": {},
   "outputs": [],
   "source": []
  },
  {
   "cell_type": "code",
   "execution_count": null,
   "id": "aa750cdb",
   "metadata": {},
   "outputs": [],
   "source": []
  },
  {
   "cell_type": "code",
   "execution_count": null,
   "id": "ba773499",
   "metadata": {},
   "outputs": [],
   "source": []
  },
  {
   "cell_type": "code",
   "execution_count": null,
   "id": "3fd47ad6",
   "metadata": {},
   "outputs": [],
   "source": []
  },
  {
   "cell_type": "code",
   "execution_count": null,
   "id": "90d4da13",
   "metadata": {},
   "outputs": [],
   "source": []
  },
  {
   "cell_type": "code",
   "execution_count": null,
   "id": "a29685da",
   "metadata": {},
   "outputs": [],
   "source": []
  },
  {
   "cell_type": "code",
   "execution_count": null,
   "id": "4bf51ff0",
   "metadata": {},
   "outputs": [],
   "source": []
  },
  {
   "cell_type": "code",
   "execution_count": null,
   "id": "72fdd020",
   "metadata": {},
   "outputs": [],
   "source": []
  },
  {
   "cell_type": "code",
   "execution_count": null,
   "id": "eac237ed",
   "metadata": {},
   "outputs": [],
   "source": []
  },
  {
   "cell_type": "code",
   "execution_count": null,
   "id": "b312d290",
   "metadata": {},
   "outputs": [],
   "source": []
  },
  {
   "cell_type": "code",
   "execution_count": null,
   "id": "03516e61",
   "metadata": {},
   "outputs": [],
   "source": []
  },
  {
   "cell_type": "code",
   "execution_count": null,
   "id": "c081d645",
   "metadata": {},
   "outputs": [],
   "source": []
  },
  {
   "cell_type": "code",
   "execution_count": null,
   "id": "520e9ad6",
   "metadata": {},
   "outputs": [],
   "source": []
  },
  {
   "cell_type": "code",
   "execution_count": null,
   "id": "078be678",
   "metadata": {},
   "outputs": [],
   "source": []
  },
  {
   "cell_type": "code",
   "execution_count": null,
   "id": "d07d792c",
   "metadata": {},
   "outputs": [],
   "source": []
  },
  {
   "cell_type": "code",
   "execution_count": null,
   "id": "239dbe17",
   "metadata": {},
   "outputs": [],
   "source": []
  },
  {
   "cell_type": "code",
   "execution_count": null,
   "id": "0fb360fb",
   "metadata": {},
   "outputs": [],
   "source": []
  },
  {
   "cell_type": "code",
   "execution_count": null,
   "id": "427b4ab2",
   "metadata": {},
   "outputs": [],
   "source": []
  },
  {
   "cell_type": "code",
   "execution_count": null,
   "id": "83b25607",
   "metadata": {},
   "outputs": [],
   "source": []
  },
  {
   "cell_type": "code",
   "execution_count": null,
   "id": "b7788d47",
   "metadata": {},
   "outputs": [],
   "source": []
  },
  {
   "cell_type": "code",
   "execution_count": null,
   "id": "3d4696ad",
   "metadata": {},
   "outputs": [],
   "source": []
  },
  {
   "cell_type": "code",
   "execution_count": null,
   "id": "a3041f50",
   "metadata": {},
   "outputs": [],
   "source": []
  },
  {
   "cell_type": "code",
   "execution_count": null,
   "id": "cf269b49",
   "metadata": {},
   "outputs": [],
   "source": []
  },
  {
   "cell_type": "code",
   "execution_count": null,
   "id": "43d04eb5",
   "metadata": {},
   "outputs": [],
   "source": []
  },
  {
   "cell_type": "code",
   "execution_count": null,
   "id": "8029ea0a",
   "metadata": {},
   "outputs": [],
   "source": []
  },
  {
   "cell_type": "code",
   "execution_count": null,
   "id": "7d5c8f5c",
   "metadata": {},
   "outputs": [],
   "source": []
  },
  {
   "cell_type": "code",
   "execution_count": null,
   "id": "88d606a5",
   "metadata": {},
   "outputs": [],
   "source": []
  },
  {
   "cell_type": "code",
   "execution_count": null,
   "id": "3fa82d3e",
   "metadata": {},
   "outputs": [],
   "source": []
  },
  {
   "cell_type": "code",
   "execution_count": null,
   "id": "966d137f",
   "metadata": {},
   "outputs": [],
   "source": []
  },
  {
   "cell_type": "code",
   "execution_count": null,
   "id": "ed7769f9",
   "metadata": {},
   "outputs": [],
   "source": []
  },
  {
   "cell_type": "code",
   "execution_count": null,
   "id": "6c0d0f78",
   "metadata": {},
   "outputs": [],
   "source": []
  },
  {
   "cell_type": "code",
   "execution_count": null,
   "id": "dfa0c55b",
   "metadata": {},
   "outputs": [],
   "source": []
  },
  {
   "cell_type": "code",
   "execution_count": null,
   "id": "974b98b2",
   "metadata": {},
   "outputs": [],
   "source": []
  },
  {
   "cell_type": "code",
   "execution_count": null,
   "id": "4077fe88",
   "metadata": {},
   "outputs": [],
   "source": []
  },
  {
   "cell_type": "code",
   "execution_count": null,
   "id": "4678d291",
   "metadata": {},
   "outputs": [],
   "source": []
  },
  {
   "cell_type": "code",
   "execution_count": null,
   "id": "8b021929",
   "metadata": {},
   "outputs": [],
   "source": []
  },
  {
   "cell_type": "code",
   "execution_count": 1,
   "id": "5c13de77",
   "metadata": {},
   "outputs": [
    {
     "ename": "NameError",
     "evalue": "name 'np' is not defined",
     "output_type": "error",
     "traceback": [
      "\u001b[1;31m---------------------------------------------------------------------------\u001b[0m",
      "\u001b[1;31mNameError\u001b[0m                                 Traceback (most recent call last)",
      "Input \u001b[1;32mIn [1]\u001b[0m, in \u001b[0;36m<module>\u001b[1;34m\u001b[0m\n\u001b[1;32m----> 1\u001b[0m arr \u001b[38;5;241m=\u001b[39m \u001b[43mnp\u001b[49m\u001b[38;5;241m.\u001b[39marrange(\u001b[38;5;241m11\u001b[39m)\n\u001b[0;32m      2\u001b[0m arr\n",
      "\u001b[1;31mNameError\u001b[0m: name 'np' is not defined"
     ]
    }
   ],
   "source": []
  },
  {
   "cell_type": "code",
   "execution_count": null,
   "id": "ac168388",
   "metadata": {},
   "outputs": [],
   "source": []
  }
 ],
 "metadata": {
  "kernelspec": {
   "display_name": "Python 3 (ipykernel)",
   "language": "python",
   "name": "python3"
  },
  "language_info": {
   "codemirror_mode": {
    "name": "ipython",
    "version": 3
   },
   "file_extension": ".py",
   "mimetype": "text/x-python",
   "name": "python",
   "nbconvert_exporter": "python",
   "pygments_lexer": "ipython3",
   "version": "3.9.7"
  }
 },
 "nbformat": 4,
 "nbformat_minor": 5
}
