{
 "cells": [
  {
   "cell_type": "markdown",
   "id": "684065ab",
   "metadata": {},
   "source": [
    "# Introduction à la Science des données\n",
    "## Travail pratique 03 – Outils pour le calcul scientifique II"
   ]
  },
  {
   "cell_type": "markdown",
   "id": "4ebd28fd",
   "metadata": {},
   "source": [
    "## 2. Base de données d’animaux\n",
    "#### Kevin Ferati & Elliot Ganty"
   ]
  },
  {
   "cell_type": "code",
   "execution_count": 546,
   "id": "1eb0e598",
   "metadata": {},
   "outputs": [],
   "source": [
    "import pandas as pd\n",
    "import numpy as np\n",
    "from matplotlib import pyplot as plt\n",
    "\n",
    "%matplotlib inline"
   ]
  },
  {
   "cell_type": "markdown",
   "id": "ef5f1d51",
   "metadata": {},
   "source": [
    "#### 1) Créez un notebook pour lire la base de données et générez un dataframe."
   ]
  },
  {
   "cell_type": "code",
   "execution_count": 547,
   "id": "057ba462",
   "metadata": {},
   "outputs": [
    {
     "data": {
      "text/html": [
       "<div>\n",
       "<style scoped>\n",
       "    .dataframe tbody tr th:only-of-type {\n",
       "        vertical-align: middle;\n",
       "    }\n",
       "\n",
       "    .dataframe tbody tr th {\n",
       "        vertical-align: top;\n",
       "    }\n",
       "\n",
       "    .dataframe thead th {\n",
       "        text-align: right;\n",
       "    }\n",
       "</style>\n",
       "<table border=\"1\" class=\"dataframe\">\n",
       "  <thead>\n",
       "    <tr style=\"text-align: right;\">\n",
       "      <th></th>\n",
       "      <th>MSW05_Order</th>\n",
       "      <th>MSW05_Family</th>\n",
       "      <th>MSW05_Genus</th>\n",
       "      <th>MSW05_Species</th>\n",
       "      <th>MSW05_Binomial</th>\n",
       "      <th>1-1_ActivityCycle</th>\n",
       "      <th>5-1_AdultBodyMass_g</th>\n",
       "      <th>8-1_AdultForearmLen_mm</th>\n",
       "      <th>13-1_AdultHeadBodyLen_mm</th>\n",
       "      <th>2-1_AgeatEyeOpening_d</th>\n",
       "      <th>...</th>\n",
       "      <th>26-6_GR_MinLong_dd</th>\n",
       "      <th>26-7_GR_MidRangeLong_dd</th>\n",
       "      <th>27-1_HuPopDen_Min_n/km2</th>\n",
       "      <th>27-2_HuPopDen_Mean_n/km2</th>\n",
       "      <th>27-3_HuPopDen_5p_n/km2</th>\n",
       "      <th>27-4_HuPopDen_Change</th>\n",
       "      <th>28-1_Precip_Mean_mm</th>\n",
       "      <th>28-2_Temp_Mean_01degC</th>\n",
       "      <th>30-1_AET_Mean_mm</th>\n",
       "      <th>30-2_PET_Mean_mm</th>\n",
       "    </tr>\n",
       "  </thead>\n",
       "  <tbody>\n",
       "    <tr>\n",
       "      <th>0</th>\n",
       "      <td>Artiodactyla</td>\n",
       "      <td>Camelidae</td>\n",
       "      <td>Camelus</td>\n",
       "      <td>dromedarius</td>\n",
       "      <td>Camelus dromedarius</td>\n",
       "      <td>3.0</td>\n",
       "      <td>492714.47</td>\n",
       "      <td>-999.0</td>\n",
       "      <td>-999.00</td>\n",
       "      <td>-999.00</td>\n",
       "      <td>...</td>\n",
       "      <td>-999.00</td>\n",
       "      <td>-999.00</td>\n",
       "      <td>-999</td>\n",
       "      <td>-999.00</td>\n",
       "      <td>-999.0</td>\n",
       "      <td>-999.00</td>\n",
       "      <td>-999.00</td>\n",
       "      <td>-999.00</td>\n",
       "      <td>-999.00</td>\n",
       "      <td>-999.00</td>\n",
       "    </tr>\n",
       "    <tr>\n",
       "      <th>1</th>\n",
       "      <td>Carnivora</td>\n",
       "      <td>Canidae</td>\n",
       "      <td>Canis</td>\n",
       "      <td>adustus</td>\n",
       "      <td>Canis adustus</td>\n",
       "      <td>1.0</td>\n",
       "      <td>10392.49</td>\n",
       "      <td>-999.0</td>\n",
       "      <td>745.32</td>\n",
       "      <td>-999.00</td>\n",
       "      <td>...</td>\n",
       "      <td>-17.53</td>\n",
       "      <td>13.00</td>\n",
       "      <td>0</td>\n",
       "      <td>35.20</td>\n",
       "      <td>1.0</td>\n",
       "      <td>0.14</td>\n",
       "      <td>90.75</td>\n",
       "      <td>236.51</td>\n",
       "      <td>922.90</td>\n",
       "      <td>1534.40</td>\n",
       "    </tr>\n",
       "    <tr>\n",
       "      <th>2</th>\n",
       "      <td>Carnivora</td>\n",
       "      <td>Canidae</td>\n",
       "      <td>Canis</td>\n",
       "      <td>aureus</td>\n",
       "      <td>Canis aureus</td>\n",
       "      <td>2.0</td>\n",
       "      <td>9658.70</td>\n",
       "      <td>-999.0</td>\n",
       "      <td>827.53</td>\n",
       "      <td>7.50</td>\n",
       "      <td>...</td>\n",
       "      <td>-17.05</td>\n",
       "      <td>45.74</td>\n",
       "      <td>0</td>\n",
       "      <td>79.29</td>\n",
       "      <td>0.0</td>\n",
       "      <td>0.10</td>\n",
       "      <td>44.61</td>\n",
       "      <td>217.23</td>\n",
       "      <td>438.02</td>\n",
       "      <td>1358.98</td>\n",
       "    </tr>\n",
       "    <tr>\n",
       "      <th>3</th>\n",
       "      <td>Carnivora</td>\n",
       "      <td>Canidae</td>\n",
       "      <td>Canis</td>\n",
       "      <td>latrans</td>\n",
       "      <td>Canis latrans</td>\n",
       "      <td>2.0</td>\n",
       "      <td>11989.10</td>\n",
       "      <td>-999.0</td>\n",
       "      <td>872.39</td>\n",
       "      <td>11.94</td>\n",
       "      <td>...</td>\n",
       "      <td>-168.12</td>\n",
       "      <td>-117.60</td>\n",
       "      <td>0</td>\n",
       "      <td>27.27</td>\n",
       "      <td>0.0</td>\n",
       "      <td>0.06</td>\n",
       "      <td>53.03</td>\n",
       "      <td>58.18</td>\n",
       "      <td>503.02</td>\n",
       "      <td>728.37</td>\n",
       "    </tr>\n",
       "    <tr>\n",
       "      <th>4</th>\n",
       "      <td>Carnivora</td>\n",
       "      <td>Canidae</td>\n",
       "      <td>Canis</td>\n",
       "      <td>lupus</td>\n",
       "      <td>Canis lupus</td>\n",
       "      <td>2.0</td>\n",
       "      <td>31756.51</td>\n",
       "      <td>-999.0</td>\n",
       "      <td>1055.00</td>\n",
       "      <td>14.01</td>\n",
       "      <td>...</td>\n",
       "      <td>-171.84</td>\n",
       "      <td>3.90</td>\n",
       "      <td>0</td>\n",
       "      <td>37.87</td>\n",
       "      <td>0.0</td>\n",
       "      <td>0.04</td>\n",
       "      <td>34.79</td>\n",
       "      <td>4.82</td>\n",
       "      <td>313.33</td>\n",
       "      <td>561.11</td>\n",
       "    </tr>\n",
       "    <tr>\n",
       "      <th>...</th>\n",
       "      <td>...</td>\n",
       "      <td>...</td>\n",
       "      <td>...</td>\n",
       "      <td>...</td>\n",
       "      <td>...</td>\n",
       "      <td>...</td>\n",
       "      <td>...</td>\n",
       "      <td>...</td>\n",
       "      <td>...</td>\n",
       "      <td>...</td>\n",
       "      <td>...</td>\n",
       "      <td>...</td>\n",
       "      <td>...</td>\n",
       "      <td>...</td>\n",
       "      <td>...</td>\n",
       "      <td>...</td>\n",
       "      <td>...</td>\n",
       "      <td>...</td>\n",
       "      <td>...</td>\n",
       "      <td>...</td>\n",
       "      <td>...</td>\n",
       "    </tr>\n",
       "    <tr>\n",
       "      <th>5411</th>\n",
       "      <td>Rodentia</td>\n",
       "      <td>Muridae</td>\n",
       "      <td>Zyzomys</td>\n",
       "      <td>argurus</td>\n",
       "      <td>Zyzomys argurus</td>\n",
       "      <td>-999.0</td>\n",
       "      <td>40.42</td>\n",
       "      <td>-999.0</td>\n",
       "      <td>107.83</td>\n",
       "      <td>-999.00</td>\n",
       "      <td>...</td>\n",
       "      <td>114.33</td>\n",
       "      <td>131.09</td>\n",
       "      <td>0</td>\n",
       "      <td>1.10</td>\n",
       "      <td>0.0</td>\n",
       "      <td>0.02</td>\n",
       "      <td>62.33</td>\n",
       "      <td>256.75</td>\n",
       "      <td>692.93</td>\n",
       "      <td>1704.98</td>\n",
       "    </tr>\n",
       "    <tr>\n",
       "      <th>5412</th>\n",
       "      <td>Rodentia</td>\n",
       "      <td>Muridae</td>\n",
       "      <td>Zyzomys</td>\n",
       "      <td>maini</td>\n",
       "      <td>Zyzomys maini</td>\n",
       "      <td>-999.0</td>\n",
       "      <td>93.99</td>\n",
       "      <td>-999.0</td>\n",
       "      <td>-999.00</td>\n",
       "      <td>-999.00</td>\n",
       "      <td>...</td>\n",
       "      <td>131.45</td>\n",
       "      <td>132.66</td>\n",
       "      <td>0</td>\n",
       "      <td>0.17</td>\n",
       "      <td>0.0</td>\n",
       "      <td>0.00</td>\n",
       "      <td>90.76</td>\n",
       "      <td>265.30</td>\n",
       "      <td>877.90</td>\n",
       "      <td>1755.73</td>\n",
       "    </tr>\n",
       "    <tr>\n",
       "      <th>5413</th>\n",
       "      <td>Rodentia</td>\n",
       "      <td>Muridae</td>\n",
       "      <td>Zyzomys</td>\n",
       "      <td>palatilis</td>\n",
       "      <td>Zyzomys palatilis</td>\n",
       "      <td>-999.0</td>\n",
       "      <td>123.00</td>\n",
       "      <td>-999.0</td>\n",
       "      <td>-999.00</td>\n",
       "      <td>-999.00</td>\n",
       "      <td>...</td>\n",
       "      <td>136.72</td>\n",
       "      <td>137.08</td>\n",
       "      <td>0</td>\n",
       "      <td>0.00</td>\n",
       "      <td>0.0</td>\n",
       "      <td>-999.00</td>\n",
       "      <td>49.00</td>\n",
       "      <td>247.16</td>\n",
       "      <td>637.90</td>\n",
       "      <td>1638.67</td>\n",
       "    </tr>\n",
       "    <tr>\n",
       "      <th>5414</th>\n",
       "      <td>Rodentia</td>\n",
       "      <td>Muridae</td>\n",
       "      <td>Zyzomys</td>\n",
       "      <td>pedunculatus</td>\n",
       "      <td>Zyzomys pedunculatus</td>\n",
       "      <td>-999.0</td>\n",
       "      <td>100.00</td>\n",
       "      <td>-999.0</td>\n",
       "      <td>126.79</td>\n",
       "      <td>-999.00</td>\n",
       "      <td>...</td>\n",
       "      <td>130.16</td>\n",
       "      <td>132.97</td>\n",
       "      <td>0</td>\n",
       "      <td>0.09</td>\n",
       "      <td>0.0</td>\n",
       "      <td>0.25</td>\n",
       "      <td>21.64</td>\n",
       "      <td>215.72</td>\n",
       "      <td>291.82</td>\n",
       "      <td>1405.85</td>\n",
       "    </tr>\n",
       "    <tr>\n",
       "      <th>5415</th>\n",
       "      <td>Rodentia</td>\n",
       "      <td>Muridae</td>\n",
       "      <td>Zyzomys</td>\n",
       "      <td>woodwardi</td>\n",
       "      <td>Zyzomys woodwardi</td>\n",
       "      <td>-999.0</td>\n",
       "      <td>95.02</td>\n",
       "      <td>-999.0</td>\n",
       "      <td>146.07</td>\n",
       "      <td>-999.00</td>\n",
       "      <td>...</td>\n",
       "      <td>123.42</td>\n",
       "      <td>125.55</td>\n",
       "      <td>0</td>\n",
       "      <td>0.00</td>\n",
       "      <td>0.0</td>\n",
       "      <td>-999.00</td>\n",
       "      <td>79.45</td>\n",
       "      <td>280.41</td>\n",
       "      <td>798.86</td>\n",
       "      <td>1765.19</td>\n",
       "    </tr>\n",
       "  </tbody>\n",
       "</table>\n",
       "<p>5416 rows × 55 columns</p>\n",
       "</div>"
      ],
      "text/plain": [
       "       MSW05_Order MSW05_Family MSW05_Genus MSW05_Species  \\\n",
       "0     Artiodactyla    Camelidae     Camelus   dromedarius   \n",
       "1        Carnivora      Canidae       Canis       adustus   \n",
       "2        Carnivora      Canidae       Canis        aureus   \n",
       "3        Carnivora      Canidae       Canis       latrans   \n",
       "4        Carnivora      Canidae       Canis         lupus   \n",
       "...            ...          ...         ...           ...   \n",
       "5411      Rodentia      Muridae     Zyzomys       argurus   \n",
       "5412      Rodentia      Muridae     Zyzomys         maini   \n",
       "5413      Rodentia      Muridae     Zyzomys     palatilis   \n",
       "5414      Rodentia      Muridae     Zyzomys  pedunculatus   \n",
       "5415      Rodentia      Muridae     Zyzomys     woodwardi   \n",
       "\n",
       "            MSW05_Binomial  1-1_ActivityCycle  5-1_AdultBodyMass_g  \\\n",
       "0      Camelus dromedarius                3.0            492714.47   \n",
       "1            Canis adustus                1.0             10392.49   \n",
       "2             Canis aureus                2.0              9658.70   \n",
       "3            Canis latrans                2.0             11989.10   \n",
       "4              Canis lupus                2.0             31756.51   \n",
       "...                    ...                ...                  ...   \n",
       "5411       Zyzomys argurus             -999.0                40.42   \n",
       "5412         Zyzomys maini             -999.0                93.99   \n",
       "5413     Zyzomys palatilis             -999.0               123.00   \n",
       "5414  Zyzomys pedunculatus             -999.0               100.00   \n",
       "5415     Zyzomys woodwardi             -999.0                95.02   \n",
       "\n",
       "      8-1_AdultForearmLen_mm  13-1_AdultHeadBodyLen_mm  2-1_AgeatEyeOpening_d  \\\n",
       "0                     -999.0                   -999.00                -999.00   \n",
       "1                     -999.0                    745.32                -999.00   \n",
       "2                     -999.0                    827.53                   7.50   \n",
       "3                     -999.0                    872.39                  11.94   \n",
       "4                     -999.0                   1055.00                  14.01   \n",
       "...                      ...                       ...                    ...   \n",
       "5411                  -999.0                    107.83                -999.00   \n",
       "5412                  -999.0                   -999.00                -999.00   \n",
       "5413                  -999.0                   -999.00                -999.00   \n",
       "5414                  -999.0                    126.79                -999.00   \n",
       "5415                  -999.0                    146.07                -999.00   \n",
       "\n",
       "      ...  26-6_GR_MinLong_dd  26-7_GR_MidRangeLong_dd  \\\n",
       "0     ...             -999.00                  -999.00   \n",
       "1     ...              -17.53                    13.00   \n",
       "2     ...              -17.05                    45.74   \n",
       "3     ...             -168.12                  -117.60   \n",
       "4     ...             -171.84                     3.90   \n",
       "...   ...                 ...                      ...   \n",
       "5411  ...              114.33                   131.09   \n",
       "5412  ...              131.45                   132.66   \n",
       "5413  ...              136.72                   137.08   \n",
       "5414  ...              130.16                   132.97   \n",
       "5415  ...              123.42                   125.55   \n",
       "\n",
       "      27-1_HuPopDen_Min_n/km2  27-2_HuPopDen_Mean_n/km2  \\\n",
       "0                        -999                   -999.00   \n",
       "1                           0                     35.20   \n",
       "2                           0                     79.29   \n",
       "3                           0                     27.27   \n",
       "4                           0                     37.87   \n",
       "...                       ...                       ...   \n",
       "5411                        0                      1.10   \n",
       "5412                        0                      0.17   \n",
       "5413                        0                      0.00   \n",
       "5414                        0                      0.09   \n",
       "5415                        0                      0.00   \n",
       "\n",
       "      27-3_HuPopDen_5p_n/km2  27-4_HuPopDen_Change  28-1_Precip_Mean_mm  \\\n",
       "0                     -999.0               -999.00              -999.00   \n",
       "1                        1.0                  0.14                90.75   \n",
       "2                        0.0                  0.10                44.61   \n",
       "3                        0.0                  0.06                53.03   \n",
       "4                        0.0                  0.04                34.79   \n",
       "...                      ...                   ...                  ...   \n",
       "5411                     0.0                  0.02                62.33   \n",
       "5412                     0.0                  0.00                90.76   \n",
       "5413                     0.0               -999.00                49.00   \n",
       "5414                     0.0                  0.25                21.64   \n",
       "5415                     0.0               -999.00                79.45   \n",
       "\n",
       "      28-2_Temp_Mean_01degC  30-1_AET_Mean_mm  30-2_PET_Mean_mm  \n",
       "0                   -999.00           -999.00           -999.00  \n",
       "1                    236.51            922.90           1534.40  \n",
       "2                    217.23            438.02           1358.98  \n",
       "3                     58.18            503.02            728.37  \n",
       "4                      4.82            313.33            561.11  \n",
       "...                     ...               ...               ...  \n",
       "5411                 256.75            692.93           1704.98  \n",
       "5412                 265.30            877.90           1755.73  \n",
       "5413                 247.16            637.90           1638.67  \n",
       "5414                 215.72            291.82           1405.85  \n",
       "5415                 280.41            798.86           1765.19  \n",
       "\n",
       "[5416 rows x 55 columns]"
      ]
     },
     "execution_count": 547,
     "metadata": {},
     "output_type": "execute_result"
    }
   ],
   "source": [
    "raw_data = pd.read_csv(\"animals.txt\", sep=\"\\t\")\n",
    "MASS_COL = \"5-1_AdultBodyMass_g\"\n",
    "raw_data"
   ]
  },
  {
   "cell_type": "markdown",
   "id": "450e57f7",
   "metadata": {},
   "source": [
    "#### 2) Prenez la masse corporelle (en grammes) des animaux à leur âge adulte (colonne « 5-1_AdultBodyMass_g »)."
   ]
  },
  {
   "cell_type": "code",
   "execution_count": 548,
   "id": "cf14a4dc",
   "metadata": {},
   "outputs": [
    {
     "name": "stdout",
     "output_type": "stream",
     "text": [
      "5416 masses corporelles trouvées\n"
     ]
    },
    {
     "data": {
      "text/plain": [
       "0       492714.47\n",
       "1        10392.49\n",
       "2         9658.70\n",
       "3        11989.10\n",
       "4        31756.51\n",
       "          ...    \n",
       "5411        40.42\n",
       "5412        93.99\n",
       "5413       123.00\n",
       "5414       100.00\n",
       "5415        95.02\n",
       "Name: 5-1_AdultBodyMass_g, Length: 5416, dtype: float64"
      ]
     },
     "execution_count": 548,
     "metadata": {},
     "output_type": "execute_result"
    }
   ],
   "source": [
    "adult_body_mass_g = raw_data[MASS_COL]\n",
    "print(\"%s masses corporelles trouvées\" % (len(adult_body_mass_g)))\n",
    "adult_body_mass_g"
   ]
  },
  {
   "cell_type": "markdown",
   "id": "8455ef19",
   "metadata": {},
   "source": [
    "#### 3) Observez la distribution des valeurs, \n",
    "calculez la valeur minimale, \n",
    "la valeur maximale, \n",
    "la moyenne et la médiane.\n",
    "Vérifiez s’il y a des valeurs manquantes, des valeurs aberrantes, etc."
   ]
  },
  {
   "cell_type": "code",
   "execution_count": 574,
   "id": "54999b51",
   "metadata": {},
   "outputs": [],
   "source": [
    "def filter_values(column_name, threshold, source=raw_data, isHigher=True):\n",
    "    return (source[source[column_name] > threshold]) if isHigher else (source[source[column_name] < threshold])\n",
    "\n",
    "def g_to_kg(val):\n",
    "    return val / 1000"
   ]
  },
  {
   "cell_type": "code",
   "execution_count": 648,
   "id": "923a8a00",
   "metadata": {},
   "outputs": [
    {
     "name": "stdout",
     "output_type": "stream",
     "text": [
      "Masse corporelle minimale: -999.0 (-0.999 kg) \n",
      "Masse corporelle maximale: 154321304.5 (154321.3045 kg) \n",
      "Masse corporelle moyenne: 115940.09211964569 (115.9400921196457 kg) \n",
      "Médiane masse corporelle: 23.125 (0.023125 kg) \n",
      "0 valeurs manquantes\n",
      "l'animal trouvé avec la plus grande masse corporelle est : musculus Balaenopteridae \n",
      "3542 valeurs sont retenues (> 0) sur 5416 valeurs\n",
      "Masse corporelle minimale + FILTRE : 1.96 (0.00196 kg) \n",
      "l'animal trouvé avec la plus petite masse corporelle est : thonglongyai Craseonycteridae \n"
     ]
    }
   ],
   "source": [
    "min_val = adult_body_mass_g.min()\n",
    "print(\"Masse corporelle minimale: %s (%s kg) \" % (min_val, g_to_kg(min_val)))\n",
    "#--------------------------------\n",
    "max_val = adult_body_mass_g.max()\n",
    "print(\"Masse corporelle maximale: %s (%s kg) \" % (max_val, g_to_kg(max_val)))\n",
    "#--------------------------------\n",
    "mean_val = adult_body_mass_g.mean()\n",
    "print(\"Masse corporelle moyenne: %s (%s kg) \" % (mean_val, g_to_kg(mean_val)))\n",
    "#--------------------------------\n",
    "median_val = adult_body_mass_g.median()\n",
    "print(\"Médiane masse corporelle: %s (%s kg) \" % (median_val, g_to_kg(median_val)))\n",
    "#--------------------------------\n",
    "print(\"%s valeurs manquantes\" % (adult_body_mass_g.isnull().sum()))\n",
    "\n",
    "#--------------------------------\n",
    "max_element = raw_data[raw_data[MASS_COL] == max_val].squeeze()\n",
    "print(\"l'animal trouvé avec la plus grande masse corporelle est : %s %s \" % \n",
    "      (max_element[\"MSW05_Species\"], max_element[\"MSW05_Family\"]))\n",
    "\n",
    "# en étudiant ce résultat on peut se rendre compte qu'il s'agit de la baleine bleue \n",
    "# il n'y a donc pas besoin de fixer une limite haute car cette valeur n'est pas aberrante\n",
    "\n",
    "#--------------------------------\n",
    "# on part du principe que les valeurs négatives sont des valeurs aberrantes,\n",
    "filtered_data = filter_values(MASS_COL, 0)\n",
    "print(\"%s valeurs sont retenues (> 0) sur %s valeurs\" % (len(filtered_data), len(raw_data)))\n",
    "\n",
    "#--------------------------------\n",
    "filtered_adult_body_mass_g = filtered_data[MASS_COL]\n",
    "min_val_after_filter = filtered_adult_body_mass_g.min()\n",
    "print(\"Masse corporelle minimale + FILTRE : %s (%s kg) \" % (min_val_after_filter, g_to_kg(min_val_after_filter)))\n",
    "min_element = filtered_data[filtered_adult_body_mass_g == min_val_after_filter].squeeze()\n",
    "print(\"l'animal trouvé avec la plus petite masse corporelle est : %s %s \" % \n",
    "      (min_element[\"MSW05_Species\"], min_element[\"MSW05_Family\"]))\n",
    "\n",
    "# En étudiant ce résultat on peut se rendre compte qu'il s'agit de la Chauve-souris bourdon, connue pour ne peser qu'environ\n",
    "# 2 grammes \n",
    "# (ref: https://fr.wikipedia.org/wiki/Kitti_%C3%A0_nez_de_porc)\n",
    "# il n'y a donc pas besoin de fixer une limite basse plus haute que zéro car cette valeur n'est pas aberrante"
   ]
  },
  {
   "cell_type": "markdown",
   "id": "c553a3e4",
   "metadata": {},
   "source": [
    "#### 4) Générez un histogramme des masses corporelles.\n",
    "#### Q6. Que pouvez-vous conclure à partir de cet histogramme ?"
   ]
  },
  {
   "cell_type": "code",
   "execution_count": 567,
   "id": "ba48a1bc",
   "metadata": {},
   "outputs": [],
   "source": [
    "import matplotlib.pyplot as plt\n",
    "def plotCaracteristic(source, xAxis, yAxis, title, log_val=False):\n",
    "    df_source = pd.DataFrame(source)\n",
    "    plt.figure()\n",
    "    pd.DataFrame.hist(df_source, figsize=(12,8), log=log_val)\n",
    "    plt.xlabel(xAxis)\n",
    "    plt.ylabel(yAxis)\n",
    "    plt.title(title)\n",
    "    plt.show()"
   ]
  },
  {
   "cell_type": "code",
   "execution_count": 646,
   "id": "377041d2",
   "metadata": {},
   "outputs": [
    {
     "data": {
      "text/plain": [
       "<Figure size 432x288 with 0 Axes>"
      ]
     },
     "metadata": {},
     "output_type": "display_data"
    },
    {
     "data": {
      "image/png": "[encoded data removed]",
      "text/plain": [
       "<Figure size 864x576 with 1 Axes>"
      ]
     },
     "metadata": {
      "needs_background": "light"
     },
     "output_type": "display_data"
    },
    {
     "data": {
      "text/plain": [
       "<Figure size 432x288 with 0 Axes>"
      ]
     },
     "metadata": {},
     "output_type": "display_data"
    },
    {
     "data": {
      "image/png": "[encoded data removed]",
      "text/plain": [
       "<Figure size 864x576 with 1 Axes>"
      ]
     },
     "metadata": {
      "needs_background": "light"
     },
     "output_type": "display_data"
    },
    {
     "name": "stdout",
     "output_type": "stream",
     "text": [
      "9 masses de plus de 20 tonnes trouvées sur 5416 valeurs\n"
     ]
    }
   ],
   "source": [
    "plotCaracteristic(filtered_adult_body_mass_g.apply(lambda x: g_to_kg(x)), \"masse (kg)\", \"nombre d'individus\",\n",
    "                  \"masse corporelle des animaux à leur âge adulte\")\n",
    "\n",
    "#un histogramme tel quel n'est donc pas très lisible, on réessaie avec une autre échelle\n",
    "plotCaracteristic(filtered_adult_body_mass_g.apply(lambda x: g_to_kg(x)), \"masse (kg)\", \"nombre d'individus\",\n",
    "                  \"masse corporelle des animaux à leur âge adulte\", True)\n",
    "\n",
    "print(\"%s masses de plus de 20 tonnes trouvées sur %s valeurs\" % (len(filter_values(MASS_COL, 20000000)), len(raw_data)))"
   ]
  },
  {
   "cell_type": "markdown",
   "id": "3dc2da90",
   "metadata": {},
   "source": [
    "#### Q6 \n",
    "On observe une distribution asymétrique, on a une asymétrie positive du au fait que la queue de distribution s'étend vers la\n",
    "droite, donc la majeur partie des animaux ont une masse corporelle variant entre 0 et 20 tonnes.\n",
    "On a d'ailleurs calulé le nombre de masses plus grandes sous l'histogramme."
   ]
  },
  {
   "cell_type": "markdown",
   "id": "a4d726b2",
   "metadata": {},
   "source": [
    "#### 5) Générez un histogramme des masses corporelles, mais pour les animaux qui n’atteignent pas les 50Kg à leur âge adulte.\n",
    "#### Q7. Que pouvez-vous conclure à partir de cet histogramme ?"
   ]
  },
  {
   "cell_type": "code",
   "execution_count": 644,
   "id": "7ed7fb7f",
   "metadata": {},
   "outputs": [
    {
     "data": {
      "text/plain": [
       "<Figure size 432x288 with 0 Axes>"
      ]
     },
     "metadata": {},
     "output_type": "display_data"
    },
    {
     "data": {
      "image/png": "[encoded data removed]",
      "text/plain": [
       "<Figure size 864x576 with 1 Axes>"
      ]
     },
     "metadata": {
      "needs_background": "light"
     },
     "output_type": "display_data"
    },
    {
     "name": "stdout",
     "output_type": "stream",
     "text": [
      "3287 masses de moins de 50 kg sur 3542 valeurs\n"
     ]
    }
   ],
   "source": [
    "less_than_50_kg = filter_values(MASS_COL, 50000, filtered_data, False)\n",
    "plotCaracteristic(less_than_50_kg[MASS_COL].apply(lambda x: g_to_kg(x)), \"masse (kg)\", \"nombre d'individus\",\n",
    "                  \"masse corporelle des animaux n'atteignant pas les 50kg à l'âge adulte\")\n",
    "\n",
    "print(\"%s masses de moins de 50 kg sur %s valeurs\" % (len(less_than_50_kg), len(filtered_data)))"
   ]
  },
  {
   "cell_type": "markdown",
   "id": "dc43cc71",
   "metadata": {},
   "source": [
    "#### Q7\n",
    "On remarque ainsi que la majeure partie des animaux pèsent moins de 50 kilos\n",
    "et on peut même se rendre compte avec l'histogramme que la majeure partie des animaux pèsent en fait moins de 5 kg !\n",
    "\n",
    "on a calculé et noté cette proportion sur la base des nombres strictement positifs sous l'histogramme.\n",
    "\n",
    "on a déjà pu présentir ceci en se rendant compte que moyenne et médiane avaient des valeurs très différentes \n",
    "(115kg(moyenne) VS 23g(médiane)), signe que la moyenne, sensible aux valeurs extrêmes a été tirée vers le haut à case de \n",
    "certaines mesures très grandes sans se rendre compte qu'elles n'étaient que minoritaires.\n",
    "La médiane au contraire s'est révélé être un indicateur plus robuste, indiquant une valeur plus cohérente compte tenus de\n",
    "la distribution de valeurs observée ici."
   ]
  },
  {
   "cell_type": "markdown",
   "id": "50574bed",
   "metadata": {},
   "source": [
    "# 3. Loi de Benford"
   ]
  },
  {
   "cell_type": "markdown",
   "id": "d3a70f34",
   "metadata": {},
   "source": [
    "#### 1) Prenez la masse corporelle (en grammes) des animaux à leur âge adulte (colonne « 5-1_AdultBodyMass_g ») après filtrage des données manquantes ou  aberrantes."
   ]
  },
  {
   "cell_type": "code",
   "execution_count": 578,
   "id": "54490593",
   "metadata": {},
   "outputs": [],
   "source": [
    "# => filtered_adult_body_mass_g, déjà calculé contient la colonne des masses filtrées pour n'avoir\n",
    "# que des valeurs strictement positives."
   ]
  },
  {
   "cell_type": "markdown",
   "id": "29dc75c0",
   "metadata": {},
   "source": [
    "#### 2) Extrayez le chiffre le plus significatif de la masse corporelle des animaux."
   ]
  },
  {
   "cell_type": "code",
   "execution_count": 579,
   "id": "5aa96dbb",
   "metadata": {},
   "outputs": [],
   "source": [
    "def extract_first_digit(values_source):\n",
    "    df = pd.DataFrame(data={\"value\": values_source})\n",
    "    df[\"digit\"] = df[\"value\"].astype(str).str[0].astype(int)\n",
    "    return df"
   ]
  },
  {
   "cell_type": "code",
   "execution_count": 580,
   "id": "939eefc1",
   "metadata": {},
   "outputs": [
    {
     "data": {
      "text/html": [
       "<div>\n",
       "<style scoped>\n",
       "    .dataframe tbody tr th:only-of-type {\n",
       "        vertical-align: middle;\n",
       "    }\n",
       "\n",
       "    .dataframe tbody tr th {\n",
       "        vertical-align: top;\n",
       "    }\n",
       "\n",
       "    .dataframe thead th {\n",
       "        text-align: right;\n",
       "    }\n",
       "</style>\n",
       "<table border=\"1\" class=\"dataframe\">\n",
       "  <thead>\n",
       "    <tr style=\"text-align: right;\">\n",
       "      <th></th>\n",
       "      <th>value</th>\n",
       "      <th>digit</th>\n",
       "    </tr>\n",
       "  </thead>\n",
       "  <tbody>\n",
       "    <tr>\n",
       "      <th>0</th>\n",
       "      <td>492714.47</td>\n",
       "      <td>4</td>\n",
       "    </tr>\n",
       "    <tr>\n",
       "      <th>1</th>\n",
       "      <td>10392.49</td>\n",
       "      <td>1</td>\n",
       "    </tr>\n",
       "    <tr>\n",
       "      <th>2</th>\n",
       "      <td>9658.70</td>\n",
       "      <td>9</td>\n",
       "    </tr>\n",
       "    <tr>\n",
       "      <th>3</th>\n",
       "      <td>11989.10</td>\n",
       "      <td>1</td>\n",
       "    </tr>\n",
       "    <tr>\n",
       "      <th>4</th>\n",
       "      <td>31756.51</td>\n",
       "      <td>3</td>\n",
       "    </tr>\n",
       "    <tr>\n",
       "      <th>...</th>\n",
       "      <td>...</td>\n",
       "      <td>...</td>\n",
       "    </tr>\n",
       "    <tr>\n",
       "      <th>5411</th>\n",
       "      <td>40.42</td>\n",
       "      <td>4</td>\n",
       "    </tr>\n",
       "    <tr>\n",
       "      <th>5412</th>\n",
       "      <td>93.99</td>\n",
       "      <td>9</td>\n",
       "    </tr>\n",
       "    <tr>\n",
       "      <th>5413</th>\n",
       "      <td>123.00</td>\n",
       "      <td>1</td>\n",
       "    </tr>\n",
       "    <tr>\n",
       "      <th>5414</th>\n",
       "      <td>100.00</td>\n",
       "      <td>1</td>\n",
       "    </tr>\n",
       "    <tr>\n",
       "      <th>5415</th>\n",
       "      <td>95.02</td>\n",
       "      <td>9</td>\n",
       "    </tr>\n",
       "  </tbody>\n",
       "</table>\n",
       "<p>3542 rows × 2 columns</p>\n",
       "</div>"
      ],
      "text/plain": [
       "          value  digit\n",
       "0     492714.47      4\n",
       "1      10392.49      1\n",
       "2       9658.70      9\n",
       "3      11989.10      1\n",
       "4      31756.51      3\n",
       "...         ...    ...\n",
       "5411      40.42      4\n",
       "5412      93.99      9\n",
       "5413     123.00      1\n",
       "5414     100.00      1\n",
       "5415      95.02      9\n",
       "\n",
       "[3542 rows x 2 columns]"
      ]
     },
     "execution_count": 580,
     "metadata": {},
     "output_type": "execute_result"
    }
   ],
   "source": [
    "df_mass_with_digits = extract_first_digit(filtered_adult_body_mass_g)\n",
    "df_mass_with_digits"
   ]
  },
  {
   "cell_type": "markdown",
   "id": "5f505982",
   "metadata": {},
   "source": [
    "#### 3) Calculez la fréquence d’apparition de chaque digit pour l‘ensemble d’animaux"
   ]
  },
  {
   "cell_type": "code",
   "execution_count": 582,
   "id": "e6f82856",
   "metadata": {},
   "outputs": [],
   "source": [
    "def group_digits(df_with_digits):\n",
    "    digit_groups = df_with_digits.groupby(\"digit\")\n",
    "    return(digit_groups.count(), digit_groups.groups.keys())"
   ]
  },
  {
   "cell_type": "code",
   "execution_count": 583,
   "id": "c9e913bc",
   "metadata": {},
   "outputs": [],
   "source": [
    "def frequency_dataframe(df_with_digits_to_count, total_count):\n",
    "    digit_groups_values, digits_keys = group_digits(df_with_digits_to_count)\n",
    "    df_grouping_result = pd.DataFrame(data={\"digit\": digits_keys, \n",
    "                                            \"absolute_frequency\": digit_groups_values.to_numpy().squeeze()})\n",
    "    df_grouping_result[\"relative_frequency\"] = ((df_grouping_result[\"absolute_frequency\"] * 100) / total_count)\n",
    "    return df_grouping_result"
   ]
  },
  {
   "cell_type": "code",
   "execution_count": 589,
   "id": "66a778c7",
   "metadata": {},
   "outputs": [
    {
     "name": "stdout",
     "output_type": "stream",
     "text": [
      "   digit  absolute_frequency  relative_frequency\n",
      "0      1                 977           27.583286\n",
      "1      2                 656           18.520610\n",
      "2      3                 379           10.700169\n",
      "3      4                 401           11.321287\n",
      "4      5                 266            7.509881\n",
      "5      6                 243            6.860531\n",
      "6      7                 249            7.029927\n",
      "7      8                 217            6.126482\n",
      "8      9                 154            4.347826\n",
      "nombre de valeurs considérérées au total : 3542\n"
     ]
    }
   ],
   "source": [
    "df_mass_result = frequency_dataframe(df_mass_with_digits, len(filtered_adult_body_mass_g))\n",
    "print(df_mass_result)\n",
    "print(\"nombre de valeurs considérérées au total : %s\" % (len(filtered_adult_body_mass_g)))"
   ]
  },
  {
   "cell_type": "markdown",
   "id": "e6af9f00",
   "metadata": {},
   "source": [
    "#### 4) Comparer vos résultats avec la loi de Benford. Présentez une bar chart présentant cette comparaison. \n",
    "#### Q8. Que pouvez-vous observer ? Commentez vos résultats."
   ]
  },
  {
   "cell_type": "code",
   "execution_count": 655,
   "id": "a4a4795d",
   "metadata": {},
   "outputs": [],
   "source": [
    "benford_distribution = np.array([30.1, 17.6, 12.5, 9.7, 7.9, 6.7, 5.8, 5.1, 4.6])\n",
    "def plotBenfordPlotComparison(digits_keys, results):\n",
    "    df = pd.DataFrame(data={\"digits\": digits_keys,\n",
    "                            \"expected frequency\": benford_distribution,\n",
    "                            \"observed frequency\": results})\n",
    "    print(df)\n",
    "    df.plot.bar(rot=0, x=\"digits\")"
   ]
  },
  {
   "cell_type": "code",
   "execution_count": 656,
   "id": "79faf0e3",
   "metadata": {},
   "outputs": [
    {
     "name": "stdout",
     "output_type": "stream",
     "text": [
      "   digits  expected frequency  observed frequency\n",
      "0       1                30.1           27.583286\n",
      "1       2                17.6           18.520610\n",
      "2       3                12.5           10.700169\n",
      "3       4                 9.7           11.321287\n",
      "4       5                 7.9            7.509881\n",
      "5       6                 6.7            6.860531\n",
      "6       7                 5.8            7.029927\n",
      "7       8                 5.1            6.126482\n",
      "8       9                 4.6            4.347826\n"
     ]
    },
    {
     "data": {
      "image/png": "[encoded data removed]",
      "text/plain": [
       "<Figure size 432x288 with 1 Axes>"
      ]
     },
     "metadata": {
      "needs_background": "light"
     },
     "output_type": "display_data"
    }
   ],
   "source": [
    "plotBenfordPlotComparison(df_mass_result[\"digit\"], df_mass_result[\"relative_frequency\"])"
   ]
  },
  {
   "cell_type": "markdown",
   "id": "62dbf97d",
   "metadata": {},
   "source": [
    "#### Q8\n",
    "on remarque que la distribution de la masse corporelle (en grammes) \n",
    "des animaux à leur âge adulte suit approximativement la loi de Benford"
   ]
  },
  {
   "cell_type": "markdown",
   "id": "b4e59ed4",
   "metadata": {},
   "source": [
    "#### 5) Essayez une autre variable pour vérifier si elle répond à la loi de Benford. \n",
    "#### Q9. Commentez vos résultats."
   ]
  },
  {
   "cell_type": "code",
   "execution_count": 638,
   "id": "96fd5b6b",
   "metadata": {},
   "outputs": [
    {
     "name": "stdout",
     "output_type": "stream",
     "text": [
      "valeurs entre 0 et 1 non compris : 3\n"
     ]
    }
   ],
   "source": [
    "# on choisit la variable indiquant le nombre de jour avant l'ouverture des yeux après la naissance\n",
    "EYE_OPENING_COL = \"2-1_AgeatEyeOpening_d\"\n",
    "\n",
    "# on filtre les valeurs négatives d'office, on pose la limite basse à 1 pour simplifier les calculs de digits par la suite,\n",
    "# on n'enlève de toute façon que quelques valeurs en procédant ainsi :\n",
    "print(\"valeurs entre 0 et 1 non compris : %s\" % (raw_data[EYE_OPENING_COL].between(0,1, inclusive=\"neither\").sum()))\n",
    "\n",
    "age_at_eye_opening = filter_values(EYE_OPENING_COL, 1)[EYE_OPENING_COL]"
   ]
  },
  {
   "cell_type": "code",
   "execution_count": 639,
   "id": "4c2155e5",
   "metadata": {},
   "outputs": [
    {
     "name": "stdout",
     "output_type": "stream",
     "text": [
      "0 valeurs manquantes\n",
      "valeur maximale: 153.5 jours\n",
      "l'animal avec la valeur maximale est : rufogriseus Macropodidae \n"
     ]
    }
   ],
   "source": [
    "# tests / filtres supplémentaires des valeurs\n",
    "\n",
    "# on check s'il manque des valeurs, on voit que non\n",
    "print(\"%s valeurs manquantes\" % (age_at_eye_opening.isnull().sum()))\n",
    "\n",
    "max_val = age_at_eye_opening.max()\n",
    "print(\"valeur maximale: %s jours\" % (max_val))\n",
    "max_element = filtered_data_on_eyes_opening[age_at_eye_opening == max_val].squeeze()\n",
    "print(\"l'animal avec la valeur maximale est : %s %s \" % (max_element[\"MSW05_Species\"], max_element[\"MSW05_Family\"]))\n",
    "\n",
    "# on remarque que la valeur max est de environ 5 mois avant d'ouvrir les yeux et que l'espèce concernée est le \n",
    "# Wallaby à cou rouge, après quelque recherche il semble que le petit wallaby passe environ ce même temps dans la poche\n",
    "# de sa mère après la naissance, ce qui peut indiquer que cette valeur n'est pas anormale\n",
    "# (ref: https://fr.wikipedia.org/wiki/Wallaby_%C3%A0_cou_rouge)"
   ]
  },
  {
   "cell_type": "code",
   "execution_count": 657,
   "id": "71115e24",
   "metadata": {},
   "outputs": [
    {
     "name": "stdout",
     "output_type": "stream",
     "text": [
      "   digits  expected frequency  observed frequency\n",
      "0       1                30.1           49.171271\n",
      "1       2                17.6           18.232044\n",
      "2       3                12.5           10.773481\n",
      "3       4                 9.7            2.762431\n",
      "4       5                 7.9            1.657459\n",
      "5       6                 6.7            2.209945\n",
      "6       7                 5.8            4.143646\n",
      "7       8                 5.1            4.143646\n",
      "8       9                 4.6            6.906077\n"
     ]
    },
    {
     "data": {
      "image/png": "[encoded data removed]",
      "text/plain": [
       "<Figure size 432x288 with 1 Axes>"
      ]
     },
     "metadata": {
      "needs_background": "light"
     },
     "output_type": "display_data"
    }
   ],
   "source": [
    "df_eyes_with_digits = extract_first_digit(age_at_eye_opening)\n",
    "df_eyes_result = frequency_dataframe(df_eyes_with_digits, len(age_at_eye_opening))\n",
    "\n",
    "plotBenfordPlotComparison(df_eyes_result[\"digit\"], df_eyes_result[\"relative_frequency\"])"
   ]
  },
  {
   "cell_type": "markdown",
   "id": "76fc5ccf",
   "metadata": {},
   "source": [
    "#### Q9\n",
    "On remarque que la loi de benford ne semble pas s'appliquer exactement dans ce deuxième cas, \n",
    "peut-être car la distribution est plus chaotique que la distribution des masses\n",
    "qui semblait suivre une loi exponentielle\n",
    "\n",
    "Début d'explication trouvée dans Wikipedia :\n",
    "'It tends to be most accurate when values are distributed across multiple orders of magnitude, especially if the process generating the numbers is described by a power law (which is common in nature).'\n",
    "(https://en.wikipedia.org/wiki/Benford%27s_law)\n",
    "\n",
    "En étudiant les histogrammes ci-dessous on voit que la distribution des masses suit plus ou moins une loi de puissance mentionnée alors que la 2ème distribution ne la suit pas."
   ]
  },
  {
   "cell_type": "code",
   "execution_count": 650,
   "id": "d1ee8122",
   "metadata": {},
   "outputs": [
    {
     "data": {
      "text/plain": [
       "<Figure size 432x288 with 0 Axes>"
      ]
     },
     "metadata": {},
     "output_type": "display_data"
    },
    {
     "data": {
      "image/png": "[encoded data removed]",
      "text/plain": [
       "<Figure size 864x576 with 1 Axes>"
      ]
     },
     "metadata": {
      "needs_background": "light"
     },
     "output_type": "display_data"
    },
    {
     "data": {
      "text/plain": [
       "<Figure size 432x288 with 0 Axes>"
      ]
     },
     "metadata": {},
     "output_type": "display_data"
    },
    {
     "data": {
      "image/png": "[encoded data removed]",
      "text/plain": [
       "<Figure size 864x576 with 1 Axes>"
      ]
     },
     "metadata": {
      "needs_background": "light"
     },
     "output_type": "display_data"
    }
   ],
   "source": [
    "plotCaracteristic(filtered_adult_body_mass_g.apply(lambda x: g_to_kg(x)), \"masse (kg)\", \"nombre d\\'individus\",\n",
    "                  \"Masse corporelle des animaux à leur âge adulte\", True)\n",
    "plotCaracteristic(age_at_eye_opening, \"jours\", \"nombre d\\'individus\",\n",
    "                  \"Nombre de jour avant l'ouverture des yeux après la naissance\", True)"
   ]
  }
 ],
 "metadata": {
  "kernelspec": {
   "display_name": "Python 3 (ipykernel)",
   "language": "python",
   "name": "python3"
  },
  "language_info": {
   "codemirror_mode": {
    "name": "ipython",
    "version": 3
   },
   "file_extension": ".py",
   "mimetype": "text/x-python",
   "name": "python",
   "nbconvert_exporter": "python",
   "pygments_lexer": "ipython3",
   "version": "3.9.7"
  }
 },
 "nbformat": 4,
 "nbformat_minor": 5
}
